{
 "cells": [
  {
   "cell_type": "code",
   "execution_count": null,
   "metadata": {
    "scrolled": true
   },
   "outputs": [],
   "source": [
    "from linkedin_scraper import Person, actions\n",
    "from selenium import webdriver\n",
    "driver = webdriver.Chrome(executable_path='E:/Projetos/geckodriver/chromedriver.exe')\n",
    "#driver = webdriver.Chrome()\n",
    "\n",
    "email = 'user@mail'\n",
    "password = 'pass'\n",
    "actions.login(driver, email, password) # if email and password isnt given, it'll prompt in terminal\n",
    "#person = Person(person = Person(\"www.linkedin.com/in/thiago-yoshiaki-miyabara-nascimento-3a70062a\"), driver = driver)\n",
    "company = Company(\"https://ca.linkedin.com/company/TOTVS\", driver=driver)\n",
    "company.scrape(close_on_complete=True)\n",
    "#person.scrape(close_on_complete=True)\n"
   ]
  },
  {
   "cell_type": "code",
   "execution_count": 109,
   "metadata": {},
   "outputs": [
    {
     "name": "stderr",
     "output_type": "stream",
     "text": [
      "\n",
      "Usage:   \n",
      "  pip3 install [options] <requirement specifier> [package-index-options] ...\n",
      "  pip3 install [options] -r <requirements file> [package-index-options] ...\n",
      "  pip3 install [options] [-e] <vcs project url> ...\n",
      "  pip3 install [options] [-e] <local project path> ...\n",
      "  pip3 install [options] <archive url/path> ...\n",
      "\n",
      "no such option: -u\n"
     ]
    }
   ],
   "source": [
    "!pip3 install linkedin_scraper"
   ]
  },
  {
   "cell_type": "code",
   "execution_count": 118,
   "metadata": {},
   "outputs": [],
   "source": [
    "import time\n",
    "from selenium import webdriver\n",
    "\n",
    "#driver = webdriver.Chrome('/path/to/chromedriver')  # Optional argument, if not specified will search path.\n",
    "driver = webdriver.Chrome(executable_path='E:/Projetos/geckodriver/chromedriver.exe')\n",
    "driver.get('http://www.google.com/');\n",
    "time.sleep(5) # Let the user actually see something!\n",
    "search_box = driver.find_element_by_name('q')\n",
    "search_box.send_keys('Gustavo Ravanhani Matuck')\n",
    "search_box.submit()\n",
    "time.sleep(5) # Let the user actually see something!\n",
    "driver.quit()"
   ]
  },
  {
   "cell_type": "code",
   "execution_count": null,
   "metadata": {},
   "outputs": [],
   "source": [
    "from scrape_linkedin import ProfileScraper\n",
    "\n",
    "with ProfileScraper() as scraper:\n",
    "    profile = scraper.scrape(user='austinoboyle')\n",
    "print(profile.to_dict())"
   ]
  },
  {
   "cell_type": "code",
   "execution_count": null,
   "metadata": {},
   "outputs": [],
   "source": [
    "def login():\n",
    " username = driver.find_element_by_id('thiagoyoshiaki@gmail.com')\n",
    " username.send_keys(username)\n",
    " password = driver.find_element_by_id('!Gftt198531242246')\n",
    " password.send_keys(password)\n",
    " #driver.find_element_by_id('login-submit').click()\n",
    " print('successfully logged')"
   ]
  },
  {
   "cell_type": "code",
   "execution_count": null,
   "metadata": {},
   "outputs": [],
   "source": [
    "driver = webdriver.Chrome('E:\\\\Projetos\\\\geckodriver\\\\chromedriver.exe')\n",
    "driver.get('https://www.linkedin.com/in/thiago-yoshiaki-miyabara-nascimento-3a70062a/')\n"
   ]
  }
 ],
 "metadata": {
  "kernelspec": {
   "display_name": "Python 3",
   "language": "python",
   "name": "python3"
  },
  "language_info": {
   "codemirror_mode": {
    "name": "ipython",
    "version": 3
   },
   "file_extension": ".py",
   "mimetype": "text/x-python",
   "name": "python",
   "nbconvert_exporter": "python",
   "pygments_lexer": "ipython3",
   "version": "3.7.4"
  },
  "toc": {
   "base_numbering": 1,
   "nav_menu": {},
   "number_sections": true,
   "sideBar": true,
   "skip_h1_title": true,
   "title_cell": "Index",
   "title_sidebar": "Contents",
   "toc_cell": false,
   "toc_position": {},
   "toc_section_display": true,
   "toc_window_display": false
  }
 },
 "nbformat": 4,
 "nbformat_minor": 2
}
