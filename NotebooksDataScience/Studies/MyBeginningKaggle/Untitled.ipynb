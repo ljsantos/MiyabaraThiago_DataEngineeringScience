{
 "cells": [
  {
   "cell_type": "code",
   "execution_count": 3,
   "metadata": {},
   "outputs": [],
   "source": [
    "import requests\n",
    "import pandas as pd\n",
    "import numpy as np \n",
    "import json\n",
    "from pandas.io.json import json_normalize"
   ]
  },
  {
   "cell_type": "markdown",
   "metadata": {},
   "source": [
    "# Dados do Governo da Republica Federativa do BRASIL"
   ]
  },
  {
   "cell_type": "markdown",
   "metadata": {},
   "source": [
    "# Correspondentes no país\n",
    "\n",
    "O arquivo disponibilizado apresenta os dados mais atuais dos pontos de atendimento dos correspondentes, por instituição financeira e por município, com a identificação dos tipos de serviços prestados, conforme descrito na Resolução 3.954.\n",
    "\n",
    "Aviso Legal: o teor das informações é de responsabilidade da respectiva instituição/empresa, de acordo com a regulamentação em vigor - ver mais: https://dadosabertos.bcb.gov.br/dataset/correspondentes\n"
   ]
  },
  {
   "cell_type": "markdown",
   "metadata": {},
   "source": [
    "Referência bibliográfica: https://fernandamelhem.jusbrasil.com.br/artigos/315457885/correspondentes-bancarios"
   ]
  },
  {
   "cell_type": "markdown",
   "metadata": {},
   "source": [
    "# Analise Exploratoria - EDA"
   ]
  },
  {
   "cell_type": "markdown",
   "metadata": {},
   "source": [
    "URL utilizada referente a API consumida"
   ]
  },
  {
   "cell_type": "code",
   "execution_count": 6,
   "metadata": {},
   "outputs": [],
   "source": [
    "#cUrl = \"https://olinda.bcb.gov.br/olinda/servico/Informes_Correspondentes/versao/v1/odata/Correspondentes?$top=100&$format=json&$select=CnpjContratante,NomeContratante,CnpjCorrespondente,NomeCorrespondente,Tipo,Ordem,MunicipioIBGE,Municipio,UF,ServicosCorrespondentes,Posicao\"\n",
    "#Retornando maximo de 1 bilhão de registros. \n",
    "cUrl = \"https://olinda.bcb.gov.br/olinda/servico/Informes_Correspondentes/versao/v1/odata/Correspondentes?$top=10000&$format=json\""
   ]
  },
  {
   "cell_type": "markdown",
   "metadata": {},
   "source": [
    "Extração dos dados consumindo a API;\n",
    "Trabsformação dos dados capturados em um DataSet\n",
    "Demonstração do DataSet criado"
   ]
  },
  {
   "cell_type": "code",
   "execution_count": 7,
   "metadata": {},
   "outputs": [
    {
     "data": {
      "text/html": [
       "<div>\n",
       "<style scoped>\n",
       "    .dataframe tbody tr th:only-of-type {\n",
       "        vertical-align: middle;\n",
       "    }\n",
       "\n",
       "    .dataframe tbody tr th {\n",
       "        vertical-align: top;\n",
       "    }\n",
       "\n",
       "    .dataframe thead th {\n",
       "        text-align: right;\n",
       "    }\n",
       "</style>\n",
       "<table border=\"1\" class=\"dataframe\">\n",
       "  <thead>\n",
       "    <tr style=\"text-align: right;\">\n",
       "      <th></th>\n",
       "      <th>@odata.context</th>\n",
       "      <th>value</th>\n",
       "    </tr>\n",
       "  </thead>\n",
       "  <tbody>\n",
       "    <tr>\n",
       "      <th>0</th>\n",
       "      <td>https://was-p.bcnet.bcb.gov.br/olinda/servico/...</td>\n",
       "      <td>{'CnpjContratante': '45441789', 'NomeContratan...</td>\n",
       "    </tr>\n",
       "    <tr>\n",
       "      <th>1</th>\n",
       "      <td>https://was-p.bcnet.bcb.gov.br/olinda/servico/...</td>\n",
       "      <td>{'CnpjContratante': '45441789', 'NomeContratan...</td>\n",
       "    </tr>\n",
       "    <tr>\n",
       "      <th>2</th>\n",
       "      <td>https://was-p.bcnet.bcb.gov.br/olinda/servico/...</td>\n",
       "      <td>{'CnpjContratante': '45441789', 'NomeContratan...</td>\n",
       "    </tr>\n",
       "    <tr>\n",
       "      <th>3</th>\n",
       "      <td>https://was-p.bcnet.bcb.gov.br/olinda/servico/...</td>\n",
       "      <td>{'CnpjContratante': '45441789', 'NomeContratan...</td>\n",
       "    </tr>\n",
       "    <tr>\n",
       "      <th>4</th>\n",
       "      <td>https://was-p.bcnet.bcb.gov.br/olinda/servico/...</td>\n",
       "      <td>{'CnpjContratante': '36321990', 'NomeContratan...</td>\n",
       "    </tr>\n",
       "  </tbody>\n",
       "</table>\n",
       "</div>"
      ],
      "text/plain": [
       "                                      @odata.context  \\\n",
       "0  https://was-p.bcnet.bcb.gov.br/olinda/servico/...   \n",
       "1  https://was-p.bcnet.bcb.gov.br/olinda/servico/...   \n",
       "2  https://was-p.bcnet.bcb.gov.br/olinda/servico/...   \n",
       "3  https://was-p.bcnet.bcb.gov.br/olinda/servico/...   \n",
       "4  https://was-p.bcnet.bcb.gov.br/olinda/servico/...   \n",
       "\n",
       "                                               value  \n",
       "0  {'CnpjContratante': '45441789', 'NomeContratan...  \n",
       "1  {'CnpjContratante': '45441789', 'NomeContratan...  \n",
       "2  {'CnpjContratante': '45441789', 'NomeContratan...  \n",
       "3  {'CnpjContratante': '45441789', 'NomeContratan...  \n",
       "4  {'CnpjContratante': '36321990', 'NomeContratan...  "
      ]
     },
     "execution_count": 7,
     "metadata": {},
     "output_type": "execute_result"
    }
   ],
   "source": [
    "dados = pd.read_json(cUrl)\n",
    "df = pd.DataFrame(dados) \n",
    "df.head()"
   ]
  },
  {
   "cell_type": "markdown",
   "metadata": {},
   "source": [
    " Normalizando o campo value(composto por colunas e linhas referentes aos dados dos correspondentes)"
   ]
  },
  {
   "cell_type": "code",
   "execution_count": 8,
   "metadata": {},
   "outputs": [
    {
     "data": {
      "text/html": [
       "<div>\n",
       "<style scoped>\n",
       "    .dataframe tbody tr th:only-of-type {\n",
       "        vertical-align: middle;\n",
       "    }\n",
       "\n",
       "    .dataframe tbody tr th {\n",
       "        vertical-align: top;\n",
       "    }\n",
       "\n",
       "    .dataframe thead th {\n",
       "        text-align: right;\n",
       "    }\n",
       "</style>\n",
       "<table border=\"1\" class=\"dataframe\">\n",
       "  <thead>\n",
       "    <tr style=\"text-align: right;\">\n",
       "      <th></th>\n",
       "      <th>CnpjContratante</th>\n",
       "      <th>NomeContratante</th>\n",
       "      <th>CnpjCorrespondente</th>\n",
       "      <th>NomeCorrespondente</th>\n",
       "      <th>Tipo</th>\n",
       "      <th>Ordem</th>\n",
       "      <th>MunicipioIBGE</th>\n",
       "      <th>Municipio</th>\n",
       "      <th>UF</th>\n",
       "      <th>ServicosCorrespondentes</th>\n",
       "      <th>Posicao</th>\n",
       "    </tr>\n",
       "  </thead>\n",
       "  <tbody>\n",
       "    <tr>\n",
       "      <th>0</th>\n",
       "      <td>45441789</td>\n",
       "      <td>ADMINISTRADORA DE CONSORCIO NACIONAL HONDA LTDA</td>\n",
       "      <td>25134887</td>\n",
       "      <td>H MOTOS CARIOCA LTDA</td>\n",
       "      <td>Sede</td>\n",
       "      <td>I00001</td>\n",
       "      <td>3303302</td>\n",
       "      <td>NITEROI</td>\n",
       "      <td>RJ</td>\n",
       "      <td>Inc. V</td>\n",
       "      <td>31/10/2019</td>\n",
       "    </tr>\n",
       "    <tr>\n",
       "      <th>1</th>\n",
       "      <td>45441789</td>\n",
       "      <td>ADMINISTRADORA DE CONSORCIO NACIONAL HONDA LTDA</td>\n",
       "      <td>25134887</td>\n",
       "      <td>H MOTOS CARIOCA LTDA</td>\n",
       "      <td>Filial</td>\n",
       "      <td>I00002</td>\n",
       "      <td>3304904</td>\n",
       "      <td>SAO GONCALO</td>\n",
       "      <td>RJ</td>\n",
       "      <td>Inc. V</td>\n",
       "      <td>31/10/2019</td>\n",
       "    </tr>\n",
       "    <tr>\n",
       "      <th>2</th>\n",
       "      <td>45441789</td>\n",
       "      <td>ADMINISTRADORA DE CONSORCIO NACIONAL HONDA LTDA</td>\n",
       "      <td>26108857</td>\n",
       "      <td>PAU BRASIL BAHIA COMERCIO DE MOTOS LTDA</td>\n",
       "      <td>Sede</td>\n",
       "      <td>I00001</td>\n",
       "      <td>2918407</td>\n",
       "      <td>JUAZEIRO</td>\n",
       "      <td>BA</td>\n",
       "      <td>Inc. V</td>\n",
       "      <td>31/10/2019</td>\n",
       "    </tr>\n",
       "    <tr>\n",
       "      <th>3</th>\n",
       "      <td>45441789</td>\n",
       "      <td>ADMINISTRADORA DE CONSORCIO NACIONAL HONDA LTDA</td>\n",
       "      <td>26105548</td>\n",
       "      <td>PAU BRASIL PERNAMBUCO COMERCIO DE MOTOS LTDA</td>\n",
       "      <td>Sede</td>\n",
       "      <td>I00001</td>\n",
       "      <td>2611101</td>\n",
       "      <td>PETROLINA</td>\n",
       "      <td>PE</td>\n",
       "      <td>Inc. V</td>\n",
       "      <td>31/10/2019</td>\n",
       "    </tr>\n",
       "    <tr>\n",
       "      <th>4</th>\n",
       "      <td>36321990</td>\n",
       "      <td>AGORACRED S/A SOCIEDADE DE CRÉDITO, FINANCIAME...</td>\n",
       "      <td>02911625</td>\n",
       "      <td>5 IRMAOS MOVEIS LTDA</td>\n",
       "      <td>Sede</td>\n",
       "      <td>I00001</td>\n",
       "      <td>3205002</td>\n",
       "      <td>SERRA</td>\n",
       "      <td>ES</td>\n",
       "      <td>Inc. III, Inc. V, Inc. VIII</td>\n",
       "      <td>31/10/2019</td>\n",
       "    </tr>\n",
       "  </tbody>\n",
       "</table>\n",
       "</div>"
      ],
      "text/plain": [
       "  CnpjContratante                                    NomeContratante  \\\n",
       "0        45441789    ADMINISTRADORA DE CONSORCIO NACIONAL HONDA LTDA   \n",
       "1        45441789    ADMINISTRADORA DE CONSORCIO NACIONAL HONDA LTDA   \n",
       "2        45441789    ADMINISTRADORA DE CONSORCIO NACIONAL HONDA LTDA   \n",
       "3        45441789    ADMINISTRADORA DE CONSORCIO NACIONAL HONDA LTDA   \n",
       "4        36321990  AGORACRED S/A SOCIEDADE DE CRÉDITO, FINANCIAME...   \n",
       "\n",
       "  CnpjCorrespondente                            NomeCorrespondente    Tipo  \\\n",
       "0           25134887                          H MOTOS CARIOCA LTDA    Sede   \n",
       "1           25134887                          H MOTOS CARIOCA LTDA  Filial   \n",
       "2           26108857       PAU BRASIL BAHIA COMERCIO DE MOTOS LTDA    Sede   \n",
       "3           26105548  PAU BRASIL PERNAMBUCO COMERCIO DE MOTOS LTDA    Sede   \n",
       "4           02911625                          5 IRMAOS MOVEIS LTDA    Sede   \n",
       "\n",
       "    Ordem MunicipioIBGE    Municipio  UF      ServicosCorrespondentes  \\\n",
       "0  I00001       3303302      NITEROI  RJ                       Inc. V   \n",
       "1  I00002       3304904  SAO GONCALO  RJ                       Inc. V   \n",
       "2  I00001       2918407     JUAZEIRO  BA                       Inc. V   \n",
       "3  I00001       2611101    PETROLINA  PE                       Inc. V   \n",
       "4  I00001       3205002        SERRA  ES  Inc. III, Inc. V, Inc. VIII   \n",
       "\n",
       "      Posicao  \n",
       "0  31/10/2019  \n",
       "1  31/10/2019  \n",
       "2  31/10/2019  \n",
       "3  31/10/2019  \n",
       "4  31/10/2019  "
      ]
     },
     "execution_count": 8,
     "metadata": {},
     "output_type": "execute_result"
    }
   ],
   "source": [
    "dfnew = (json_normalize(df.value))\n",
    "dfnew.head()"
   ]
  },
  {
   "cell_type": "markdown",
   "metadata": {},
   "source": [
    "Criando compo link com os dados da coluna @odata.context"
   ]
  },
  {
   "cell_type": "code",
   "execution_count": 9,
   "metadata": {},
   "outputs": [
    {
     "data": {
      "text/html": [
       "<div>\n",
       "<style scoped>\n",
       "    .dataframe tbody tr th:only-of-type {\n",
       "        vertical-align: middle;\n",
       "    }\n",
       "\n",
       "    .dataframe tbody tr th {\n",
       "        vertical-align: top;\n",
       "    }\n",
       "\n",
       "    .dataframe thead th {\n",
       "        text-align: right;\n",
       "    }\n",
       "</style>\n",
       "<table border=\"1\" class=\"dataframe\">\n",
       "  <thead>\n",
       "    <tr style=\"text-align: right;\">\n",
       "      <th></th>\n",
       "      <th>CnpjContratante</th>\n",
       "      <th>NomeContratante</th>\n",
       "      <th>CnpjCorrespondente</th>\n",
       "      <th>NomeCorrespondente</th>\n",
       "      <th>Tipo</th>\n",
       "      <th>Ordem</th>\n",
       "      <th>MunicipioIBGE</th>\n",
       "      <th>Municipio</th>\n",
       "      <th>UF</th>\n",
       "      <th>ServicosCorrespondentes</th>\n",
       "      <th>Posicao</th>\n",
       "      <th>urlserv</th>\n",
       "    </tr>\n",
       "  </thead>\n",
       "  <tbody>\n",
       "    <tr>\n",
       "      <th>0</th>\n",
       "      <td>45441789</td>\n",
       "      <td>ADMINISTRADORA DE CONSORCIO NACIONAL HONDA LTDA</td>\n",
       "      <td>25134887</td>\n",
       "      <td>H MOTOS CARIOCA LTDA</td>\n",
       "      <td>Sede</td>\n",
       "      <td>I00001</td>\n",
       "      <td>3303302</td>\n",
       "      <td>NITEROI</td>\n",
       "      <td>RJ</td>\n",
       "      <td>Inc. V</td>\n",
       "      <td>31/10/2019</td>\n",
       "      <td>https://was-p.bcnet.bcb.gov.br/olinda/servico/...</td>\n",
       "    </tr>\n",
       "    <tr>\n",
       "      <th>1</th>\n",
       "      <td>45441789</td>\n",
       "      <td>ADMINISTRADORA DE CONSORCIO NACIONAL HONDA LTDA</td>\n",
       "      <td>25134887</td>\n",
       "      <td>H MOTOS CARIOCA LTDA</td>\n",
       "      <td>Filial</td>\n",
       "      <td>I00002</td>\n",
       "      <td>3304904</td>\n",
       "      <td>SAO GONCALO</td>\n",
       "      <td>RJ</td>\n",
       "      <td>Inc. V</td>\n",
       "      <td>31/10/2019</td>\n",
       "      <td>https://was-p.bcnet.bcb.gov.br/olinda/servico/...</td>\n",
       "    </tr>\n",
       "    <tr>\n",
       "      <th>2</th>\n",
       "      <td>45441789</td>\n",
       "      <td>ADMINISTRADORA DE CONSORCIO NACIONAL HONDA LTDA</td>\n",
       "      <td>26108857</td>\n",
       "      <td>PAU BRASIL BAHIA COMERCIO DE MOTOS LTDA</td>\n",
       "      <td>Sede</td>\n",
       "      <td>I00001</td>\n",
       "      <td>2918407</td>\n",
       "      <td>JUAZEIRO</td>\n",
       "      <td>BA</td>\n",
       "      <td>Inc. V</td>\n",
       "      <td>31/10/2019</td>\n",
       "      <td>https://was-p.bcnet.bcb.gov.br/olinda/servico/...</td>\n",
       "    </tr>\n",
       "    <tr>\n",
       "      <th>3</th>\n",
       "      <td>45441789</td>\n",
       "      <td>ADMINISTRADORA DE CONSORCIO NACIONAL HONDA LTDA</td>\n",
       "      <td>26105548</td>\n",
       "      <td>PAU BRASIL PERNAMBUCO COMERCIO DE MOTOS LTDA</td>\n",
       "      <td>Sede</td>\n",
       "      <td>I00001</td>\n",
       "      <td>2611101</td>\n",
       "      <td>PETROLINA</td>\n",
       "      <td>PE</td>\n",
       "      <td>Inc. V</td>\n",
       "      <td>31/10/2019</td>\n",
       "      <td>https://was-p.bcnet.bcb.gov.br/olinda/servico/...</td>\n",
       "    </tr>\n",
       "    <tr>\n",
       "      <th>4</th>\n",
       "      <td>36321990</td>\n",
       "      <td>AGORACRED S/A SOCIEDADE DE CRÉDITO, FINANCIAME...</td>\n",
       "      <td>02911625</td>\n",
       "      <td>5 IRMAOS MOVEIS LTDA</td>\n",
       "      <td>Sede</td>\n",
       "      <td>I00001</td>\n",
       "      <td>3205002</td>\n",
       "      <td>SERRA</td>\n",
       "      <td>ES</td>\n",
       "      <td>Inc. III, Inc. V, Inc. VIII</td>\n",
       "      <td>31/10/2019</td>\n",
       "      <td>https://was-p.bcnet.bcb.gov.br/olinda/servico/...</td>\n",
       "    </tr>\n",
       "  </tbody>\n",
       "</table>\n",
       "</div>"
      ],
      "text/plain": [
       "  CnpjContratante                                    NomeContratante  \\\n",
       "0        45441789    ADMINISTRADORA DE CONSORCIO NACIONAL HONDA LTDA   \n",
       "1        45441789    ADMINISTRADORA DE CONSORCIO NACIONAL HONDA LTDA   \n",
       "2        45441789    ADMINISTRADORA DE CONSORCIO NACIONAL HONDA LTDA   \n",
       "3        45441789    ADMINISTRADORA DE CONSORCIO NACIONAL HONDA LTDA   \n",
       "4        36321990  AGORACRED S/A SOCIEDADE DE CRÉDITO, FINANCIAME...   \n",
       "\n",
       "  CnpjCorrespondente                            NomeCorrespondente    Tipo  \\\n",
       "0           25134887                          H MOTOS CARIOCA LTDA    Sede   \n",
       "1           25134887                          H MOTOS CARIOCA LTDA  Filial   \n",
       "2           26108857       PAU BRASIL BAHIA COMERCIO DE MOTOS LTDA    Sede   \n",
       "3           26105548  PAU BRASIL PERNAMBUCO COMERCIO DE MOTOS LTDA    Sede   \n",
       "4           02911625                          5 IRMAOS MOVEIS LTDA    Sede   \n",
       "\n",
       "    Ordem MunicipioIBGE    Municipio  UF      ServicosCorrespondentes  \\\n",
       "0  I00001       3303302      NITEROI  RJ                       Inc. V   \n",
       "1  I00002       3304904  SAO GONCALO  RJ                       Inc. V   \n",
       "2  I00001       2918407     JUAZEIRO  BA                       Inc. V   \n",
       "3  I00001       2611101    PETROLINA  PE                       Inc. V   \n",
       "4  I00001       3205002        SERRA  ES  Inc. III, Inc. V, Inc. VIII   \n",
       "\n",
       "      Posicao                                            urlserv  \n",
       "0  31/10/2019  https://was-p.bcnet.bcb.gov.br/olinda/servico/...  \n",
       "1  31/10/2019  https://was-p.bcnet.bcb.gov.br/olinda/servico/...  \n",
       "2  31/10/2019  https://was-p.bcnet.bcb.gov.br/olinda/servico/...  \n",
       "3  31/10/2019  https://was-p.bcnet.bcb.gov.br/olinda/servico/...  \n",
       "4  31/10/2019  https://was-p.bcnet.bcb.gov.br/olinda/servico/...  "
      ]
     },
     "execution_count": 9,
     "metadata": {},
     "output_type": "execute_result"
    }
   ],
   "source": [
    "dfnew['urlserv'] = df['@odata.context'] \n",
    "dfnew.head()"
   ]
  },
  {
   "cell_type": "markdown",
   "metadata": {},
   "source": [
    "Tamanho do DataSet"
   ]
  },
  {
   "cell_type": "code",
   "execution_count": 10,
   "metadata": {},
   "outputs": [
    {
     "data": {
      "text/plain": [
       "(10000, 12)"
      ]
     },
     "execution_count": 10,
     "metadata": {},
     "output_type": "execute_result"
    }
   ],
   "source": [
    "dfnew.shape"
   ]
  },
  {
   "cell_type": "code",
   "execution_count": 11,
   "metadata": {},
   "outputs": [
    {
     "data": {
      "text/plain": [
       "Index(['CnpjContratante', 'NomeContratante', 'CnpjCorrespondente',\n",
       "       'NomeCorrespondente', 'Tipo', 'Ordem', 'MunicipioIBGE', 'Municipio',\n",
       "       'UF', 'ServicosCorrespondentes', 'Posicao', 'urlserv'],\n",
       "      dtype='object')"
      ]
     },
     "execution_count": 11,
     "metadata": {},
     "output_type": "execute_result"
    }
   ],
   "source": [
    "dfnew.columns"
   ]
  },
  {
   "cell_type": "code",
   "execution_count": 12,
   "metadata": {},
   "outputs": [
    {
     "data": {
      "text/plain": [
       "CnpjContratante            object\n",
       "NomeContratante            object\n",
       "CnpjCorrespondente         object\n",
       "NomeCorrespondente         object\n",
       "Tipo                       object\n",
       "Ordem                      object\n",
       "MunicipioIBGE              object\n",
       "Municipio                  object\n",
       "UF                         object\n",
       "ServicosCorrespondentes    object\n",
       "Posicao                    object\n",
       "urlserv                    object\n",
       "dtype: object"
      ]
     },
     "execution_count": 12,
     "metadata": {},
     "output_type": "execute_result"
    }
   ],
   "source": [
    "dfnew.dtypes"
   ]
  },
  {
   "cell_type": "code",
   "execution_count": 13,
   "metadata": {},
   "outputs": [
    {
     "data": {
      "text/plain": [
       "<bound method NDFrame.describe of      CnpjContratante                                    NomeContratante  \\\n",
       "0           45441789    ADMINISTRADORA DE CONSORCIO NACIONAL HONDA LTDA   \n",
       "1           45441789    ADMINISTRADORA DE CONSORCIO NACIONAL HONDA LTDA   \n",
       "2           45441789    ADMINISTRADORA DE CONSORCIO NACIONAL HONDA LTDA   \n",
       "3           45441789    ADMINISTRADORA DE CONSORCIO NACIONAL HONDA LTDA   \n",
       "4           36321990  AGORACRED S/A SOCIEDADE DE CRÉDITO, FINANCIAME...   \n",
       "...              ...                                                ...   \n",
       "9995        07707650  AYMORÉ CRÉDITO, FINANCIAMENTO E INVESTIMENTO S.A.   \n",
       "9996        07707650  AYMORÉ CRÉDITO, FINANCIAMENTO E INVESTIMENTO S.A.   \n",
       "9997        07707650  AYMORÉ CRÉDITO, FINANCIAMENTO E INVESTIMENTO S.A.   \n",
       "9998        07707650  AYMORÉ CRÉDITO, FINANCIAMENTO E INVESTIMENTO S.A.   \n",
       "9999        07707650  AYMORÉ CRÉDITO, FINANCIAMENTO E INVESTIMENTO S.A.   \n",
       "\n",
       "     CnpjCorrespondente                            NomeCorrespondente    Tipo  \\\n",
       "0              25134887                          H MOTOS CARIOCA LTDA    Sede   \n",
       "1              25134887                          H MOTOS CARIOCA LTDA  Filial   \n",
       "2              26108857       PAU BRASIL BAHIA COMERCIO DE MOTOS LTDA    Sede   \n",
       "3              26105548  PAU BRASIL PERNAMBUCO COMERCIO DE MOTOS LTDA    Sede   \n",
       "4              02911625                          5 IRMAOS MOVEIS LTDA    Sede   \n",
       "...                 ...                                           ...     ...   \n",
       "9995           27317992                       DIEGO BERWANGER - SOLAR    Sede   \n",
       "9996           30258551                          DIEGO BEZERRA DANTAS    Sede   \n",
       "9997           21588031                                 DIEGO CAMARGO    Sede   \n",
       "9998           10330211               DIEGO COMERCIO DE VEICULOS LTDA    Sede   \n",
       "9999           11461677                      DIEGO CORREA DE OLIVEIRA    Sede   \n",
       "\n",
       "       Ordem MunicipioIBGE    Municipio  UF      ServicosCorrespondentes  \\\n",
       "0     I00001       3303302      NITEROI  RJ                       Inc. V   \n",
       "1     I00002       3304904  SAO GONCALO  RJ                       Inc. V   \n",
       "2     I00001       2918407     JUAZEIRO  BA                       Inc. V   \n",
       "3     I00001       2611101    PETROLINA  PE                       Inc. V   \n",
       "4     I00001       3205002        SERRA  ES  Inc. III, Inc. V, Inc. VIII   \n",
       "...      ...           ...          ...  ..                          ...   \n",
       "9995  I00001       4104808     CASCAVEL  PR                       Inc. V   \n",
       "9996  I00001       3550308    SAO PAULO  SP                       Inc. V   \n",
       "9997  I00001       5008305  TRES LAGOAS  MS                       Inc. V   \n",
       "9998  I00001       4202404     BLUMENAU  SC                       Inc. V   \n",
       "9999  I00001       3543907    RIO CLARO  SP                       Inc. V   \n",
       "\n",
       "         Posicao                                            urlserv  \n",
       "0     31/10/2019  https://was-p.bcnet.bcb.gov.br/olinda/servico/...  \n",
       "1     31/10/2019  https://was-p.bcnet.bcb.gov.br/olinda/servico/...  \n",
       "2     31/10/2019  https://was-p.bcnet.bcb.gov.br/olinda/servico/...  \n",
       "3     31/10/2019  https://was-p.bcnet.bcb.gov.br/olinda/servico/...  \n",
       "4     31/10/2019  https://was-p.bcnet.bcb.gov.br/olinda/servico/...  \n",
       "...          ...                                                ...  \n",
       "9995  31/10/2019  https://was-p.bcnet.bcb.gov.br/olinda/servico/...  \n",
       "9996  31/10/2019  https://was-p.bcnet.bcb.gov.br/olinda/servico/...  \n",
       "9997  31/10/2019  https://was-p.bcnet.bcb.gov.br/olinda/servico/...  \n",
       "9998  31/10/2019  https://was-p.bcnet.bcb.gov.br/olinda/servico/...  \n",
       "9999  31/10/2019  https://was-p.bcnet.bcb.gov.br/olinda/servico/...  \n",
       "\n",
       "[10000 rows x 12 columns]>"
      ]
     },
     "execution_count": 13,
     "metadata": {},
     "output_type": "execute_result"
    }
   ],
   "source": [
    "dfnew.describe"
   ]
  },
  {
   "cell_type": "code",
   "execution_count": 14,
   "metadata": {},
   "outputs": [
    {
     "data": {
      "text/plain": [
       "CnpjContratante            10000\n",
       "NomeContratante            10000\n",
       "CnpjCorrespondente         10000\n",
       "NomeCorrespondente         10000\n",
       "Tipo                       10000\n",
       "Ordem                      10000\n",
       "MunicipioIBGE               9984\n",
       "Municipio                  10000\n",
       "UF                         10000\n",
       "ServicosCorrespondentes    10000\n",
       "Posicao                    10000\n",
       "urlserv                    10000\n",
       "dtype: int64"
      ]
     },
     "execution_count": 14,
     "metadata": {},
     "output_type": "execute_result"
    }
   ],
   "source": [
    "dfnew.count()"
   ]
  },
  {
   "cell_type": "code",
   "execution_count": 15,
   "metadata": {},
   "outputs": [
    {
     "data": {
      "text/plain": [
       "CnpjContratante               6\n",
       "NomeContratante               6\n",
       "CnpjCorrespondente         8402\n",
       "NomeCorrespondente         8349\n",
       "Tipo                          3\n",
       "Ordem                       106\n",
       "MunicipioIBGE              1090\n",
       "Municipio                  1084\n",
       "UF                           27\n",
       "ServicosCorrespondentes       4\n",
       "Posicao                       1\n",
       "urlserv                       1\n",
       "dtype: int64"
      ]
     },
     "execution_count": 15,
     "metadata": {},
     "output_type": "execute_result"
    }
   ],
   "source": [
    "dfnew.nunique()"
   ]
  },
  {
   "cell_type": "code",
   "execution_count": 16,
   "metadata": {},
   "outputs": [
    {
     "data": {
      "text/plain": [
       "Sede       8522\n",
       "Filial     1464\n",
       "Agência      14\n",
       "Name: Tipo, dtype: int64"
      ]
     },
     "execution_count": 16,
     "metadata": {},
     "output_type": "execute_result"
    }
   ],
   "source": [
    "dfnew[\"Tipo\"].value_counts()"
   ]
  },
  {
   "cell_type": "code",
   "execution_count": 19,
   "metadata": {},
   "outputs": [
    {
     "data": {
      "text/plain": [
       "<matplotlib.axes._subplots.AxesSubplot at 0x20b5d36f388>"
      ]
     },
     "execution_count": 19,
     "metadata": {},
     "output_type": "execute_result"
    },
    {
     "data": {
      "image/png": "[encoded data removed]",
      "text/plain": [
       "<Figure size 432x288 with 1 Axes>"
      ]
     },
     "metadata": {
      "needs_background": "light"
     },
     "output_type": "display_data"
    }
   ],
   "source": [
    "dfnew[\"Tipo\"].value_counts().plot.bar()"
   ]
  },
  {
   "cell_type": "code",
   "execution_count": 20,
   "metadata": {},
   "outputs": [
    {
     "data": {
      "text/plain": [
       "<matplotlib.axes._subplots.AxesSubplot at 0x20b5d3efd48>"
      ]
     },
     "execution_count": 20,
     "metadata": {},
     "output_type": "execute_result"
    },
    {
     "data": {
      "image/png": "[encoded data removed]",
      "text/plain": [
       "<Figure size 432x288 with 1 Axes>"
      ]
     },
     "metadata": {
      "needs_background": "light"
     },
     "output_type": "display_data"
    }
   ],
   "source": [
    "dfnew[\"NomeContratante\"].value_counts().plot.barh(title = 'Nome Contratante')"
   ]
  },
  {
   "cell_type": "code",
   "execution_count": 21,
   "metadata": {},
   "outputs": [
    {
     "data": {
      "text/plain": [
       "SP    0.3274\n",
       "ES    0.1156\n",
       "MG    0.0890\n",
       "PR    0.0811\n",
       "SC    0.0780\n",
       "RS    0.0594\n",
       "BA    0.0537\n",
       "RJ    0.0455\n",
       "DF    0.0227\n",
       "GO    0.0200\n",
       "PE    0.0155\n",
       "CE    0.0142\n",
       "MT    0.0132\n",
       "MS    0.0113\n",
       "RN    0.0102\n",
       "PB    0.0091\n",
       "PA    0.0067\n",
       "MA    0.0047\n",
       "PI    0.0044\n",
       "AL    0.0040\n",
       "AM    0.0040\n",
       "SE    0.0036\n",
       "RO    0.0025\n",
       "TO    0.0016\n",
       "AC    0.0012\n",
       "AP    0.0010\n",
       "RR    0.0004\n",
       "Name: UF, dtype: float64"
      ]
     },
     "execution_count": 21,
     "metadata": {},
     "output_type": "execute_result"
    }
   ],
   "source": [
    "dfnew[\"UF\"].value_counts(normalize=True)"
   ]
  },
  {
   "cell_type": "code",
   "execution_count": 32,
   "metadata": {},
   "outputs": [
    {
     "data": {
      "text/html": [
       "<div style=\"width:100%;\"><div style=\"position:relative;width:100%;height:0;padding-bottom:60%;\"><iframe src=\"data:text/html;charset=utf-8;base64,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\" style=\"position:absolute;width:100%;height:100%;left:0;top:0;border:none !important;\" allowfullscreen webkitallowfullscreen mozallowfullscreen></iframe></div></div>"
      ],
      "text/plain": [
       "<folium.folium.Map at 0x20b61884388>"
      ]
     },
     "execution_count": 32,
     "metadata": {},
     "output_type": "execute_result"
    }
   ],
   "source": [
    "import folium\n",
    "from folium.plugins import MarkerCluster\n",
    "\n",
    "mapa = folium.Map(location=[45.523, -122.675],width=750, height=500)\n",
    "#folium.Marker([-19.9166813,-43.9344931]).add_to(mapa)\n",
    "mapa"
   ]
  },
  {
   "cell_type": "code",
   "execution_count": 23,
   "metadata": {},
   "outputs": [
    {
     "ename": "AttributeError",
     "evalue": "'PlotAccessor' object has no attribute 'map'",
     "output_type": "error",
     "traceback": [
      "\u001b[1;31m---------------------------------------------------------------------------\u001b[0m",
      "\u001b[1;31mAttributeError\u001b[0m                            Traceback (most recent call last)",
      "\u001b[1;32m<ipython-input-23-0aa175474f5c>\u001b[0m in \u001b[0;36m<module>\u001b[1;34m\u001b[0m\n\u001b[1;32m----> 1\u001b[1;33m \u001b[0mdfnew\u001b[0m\u001b[1;33m[\u001b[0m\u001b[1;34m\"UF\"\u001b[0m\u001b[1;33m]\u001b[0m\u001b[1;33m.\u001b[0m\u001b[0mvalue_counts\u001b[0m\u001b[1;33m(\u001b[0m\u001b[1;33m)\u001b[0m\u001b[1;33m.\u001b[0m\u001b[0mplot\u001b[0m\u001b[1;33m.\u001b[0m\u001b[0mmap\u001b[0m\u001b[1;33m(\u001b[0m\u001b[1;33m)\u001b[0m\u001b[1;33m\u001b[0m\u001b[1;33m\u001b[0m\u001b[0m\n\u001b[0m",
      "\u001b[1;31mAttributeError\u001b[0m: 'PlotAccessor' object has no attribute 'map'"
     ]
    }
   ],
   "source": [
    "dfnew[\"UF\"].value_counts().plot.map()"
   ]
  },
  {
   "cell_type": "code",
   "execution_count": null,
   "metadata": {},
   "outputs": [],
   "source": [
    "dfnew[\"Municipio\"].value_counts()"
   ]
  },
  {
   "cell_type": "code",
   "execution_count": null,
   "metadata": {},
   "outputs": [],
   "source": [
    "dfnew.sort_values(by=[\"Tipo\",\"ServicosCorrespondentes\",\"Ordem\",\"UF\"])\n",
    "dfnew()"
   ]
  }
 ],
 "metadata": {
  "kernelspec": {
   "display_name": "Python 3",
   "language": "python",
   "name": "python3"
  },
  "language_info": {
   "codemirror_mode": {
    "name": "ipython",
    "version": 3
   },
   "file_extension": ".py",
   "mimetype": "text/x-python",
   "name": "python",
   "nbconvert_exporter": "python",
   "pygments_lexer": "ipython3",
   "version": "3.7.4"
  }
 },
 "nbformat": 4,
 "nbformat_minor": 2
}
