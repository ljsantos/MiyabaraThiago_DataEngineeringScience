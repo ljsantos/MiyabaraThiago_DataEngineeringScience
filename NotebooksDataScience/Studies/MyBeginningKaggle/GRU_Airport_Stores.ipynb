{
  "nbformat": 4,
  "nbformat_minor": 0,
  "metadata": {
    "kernelspec": {
      "display_name": "Python 3",
      "language": "python",
      "name": "python3"
    },
    "language_info": {
      "codemirror_mode": {
        "name": "ipython",
        "version": 3
      },
      "file_extension": ".py",
      "mimetype": "text/x-python",
      "name": "python",
      "nbconvert_exporter": "python",
      "pygments_lexer": "ipython3",
      "version": "3.7.4"
    },
    "toc": {
      "base_numbering": 1,
      "nav_menu": {},
      "number_sections": true,
      "sideBar": true,
      "skip_h1_title": true,
      "title_cell": "Index",
      "title_sidebar": "Contents",
      "toc_cell": false,
      "toc_position": {},
      "toc_section_display": true,
      "toc_window_display": false
    },
    "colab": {
      "name": "GRU_Airport_Stores.ipynb",
      "provenance": [],
      "collapsed_sections": [],
      "include_colab_link": true
    }
  },
  "cells": [
    {
      "cell_type": "markdown",
      "metadata": {
        "id": "view-in-github",
        "colab_type": "text"
      },
      "source": [
        "<a href=\"https://colab.research.google.com/github/ljsantos/MiyabaraThiago_DataEngineeringScience/blob/master/NotebooksDataScience/Studies/MyBeginningKaggle/GRU_Airport_Stores.ipynb\" target=\"_parent\"><img src=\"https://colab.research.google.com/assets/colab-badge.svg\" alt=\"Open In Colab\"/></a>"
      ]
    },
    {
      "cell_type": "code",
      "metadata": {
        "id": "q3tYqj93e9JE",
        "colab_type": "code",
        "outputId": "a8f85d54-3c6a-494c-dabb-8c586f3127ac",
        "colab": {
          "base_uri": "https://localhost:8080/",
          "height": 589
        }
      },
      "source": [
        "#!apt install chromium-chromedriver\n",
        "#!cp /usr/lib/chromium-browser/chromedriver /usr/bin\n",
        "#!pip install selenium\n",
        "!ls -al /usr/lib/chromium-browser/chromedriver"
      ],
      "execution_count": 23,
      "outputs": [
        {
          "output_type": "stream",
          "text": [
            "total 198116\n",
            "drwxr-xr-x 6 root root      4096 Nov  9 14:18 .\n",
            "drwxr-xr-x 1 root root      4096 Nov  9 14:18 ..\n",
            "-rw-r--r-- 1 root root     23125 Nov  1 09:09 browser_tests_apprtc.runtime_deps\n",
            "-rwxr-xr-x 1 root root    272568 Nov  1 09:09 bytecode_builtins_list_generator\n",
            "-rwxr-xr-x 1 root root    366784 Nov  1 09:09 cddl\n",
            "-rw-r--r-- 1 root root   1064459 Nov  1 09:09 chrome_100_percent.pak\n",
            "-rw-r--r-- 1 root root   1377696 Nov  1 09:09 chrome_200_percent.pak\n",
            "lrwxrwxrwx 1 root root        22 Nov  1 09:09 chromedriver -> ../../bin/chromedriver\n",
            "-r-sr-xr-x 1 root root    243896 Nov  1 09:09 chrome-sandbox\n",
            "-rwxr-xr-x 1 root root 155217144 Nov  1 09:09 chromium-browser\n",
            "-rw-r--r-- 1 root root   8781786 Nov  1 09:09 headless_lib.pak\n",
            "-rw-r--r-- 1 root root  10426784 Oct 21 19:09 icudtl.dat\n",
            "-rw-r--r-- 1 root root   3055528 Nov  1 09:09 libffmpeg.so\n",
            "lrwxrwxrwx 1 root root         1 Nov  1 09:09 libs -> .\n",
            "-rw-r--r-- 1 root root    317496 Nov  1 09:09 libVkICD_mock_icd.so\n",
            "drwxr-xr-x 2 root root      4096 Nov  9 14:18 locales\n",
            "-rwxr-xr-x 1 root root   1244256 Nov  1 09:09 make_top_domain_list_for_edit_distance\n",
            "drwxr-xr-x 2 root root      4096 Nov  9 14:18 MEIPreload\n",
            "-rwxr-xr-x 1 root root   1739344 Nov  1 09:09 nasm\n",
            "-rw-r--r-- 1 root root     82118 Nov  1 09:09 natives_blob.bin\n",
            "drwxr-xr-x 2 root root      4096 Nov  1 09:09 plugins\n",
            "-rwxr-xr-x 1 root root    990328 Nov  1 09:09 protozero_plugin\n",
            "-rw-r--r-- 1 root root  13630513 Nov  1 09:09 resources.pak\n",
            "-rw-r--r-- 1 root root    280392 Nov  1 09:09 snapshot_blob.bin\n",
            "drwxr-xr-x 2 root root      4096 Nov  9 14:18 swiftshader\n",
            "-rwxr-xr-x 1 root root    453624 Nov  1 09:09 top_domain_generator\n",
            "-rwxr-xr-x 1 root root   1431824 Nov  1 09:09 torque\n",
            "-rwxr-xr-x 1 root root   1031160 Nov  1 09:09 transport_security_state_generator\n",
            "-rw-r--r-- 1 root root    701056 Nov  1 09:09 v8_context_snapshot.bin\n",
            "-rwxr-xr-x 1 root root     37394 Oct 21 19:09 xdg-mime\n",
            "-rwxr-xr-x 1 root root     33273 Oct 21 19:09 xdg-settings\n",
            "-rw-r--r-- 1 root root      3034 Nov  1 09:09 xr_browser_tests.runtime_deps\n"
          ],
          "name": "stdout"
        }
      ]
    },
    {
      "cell_type": "code",
      "metadata": {
        "id": "CYkzeQT5eSvg",
        "colab_type": "code",
        "colab": {}
      },
      "source": [
        "from urllib.request import Request,urlopen\n",
        "import pandas as pd\n",
        "from selenium import webdriver\n",
        "import time\n",
        "import os\n",
        "\n",
        "if os.name == 'nt':\n",
        "    browser = webdriver.Firefox(executable_path='E:/ZProjetos/geckodriver/geckodriver.exe')\n",
        "else:\n",
        "    options = webdriver.ChromeOptions()\n",
        "    options.add_argument('--headless')\n",
        "    options.add_argument('--no-sandbox')\n",
        "    options.add_argument('disable-dev-shm-usage')\n",
        "    browser = webdriver.Chrome('/usr/lib/chromium-browser/chromedriver', options=options)\n",
        "\n",
        "browser.get('https://www.gru.com.br/pt/passageiro/descubra-gru/lojas/todos-os-estabelecimentos')\n",
        "time.sleep(20)\n",
        "\n",
        "#table = browser.find_element_by_class_name('estabelecimento')\n",
        "table = browser.find_element_by_id(\"tabela-0\")\n",
        "\n",
        "table_html = table.get_attribute('outerHTML')\n",
        "\n",
        "df = pd.read_html(str(table_html))\n",
        "\n",
        "#print(df)\n",
        "df = df[0]"
      ],
      "execution_count": 0,
      "outputs": []
    },
    {
      "cell_type": "code",
      "metadata": {
        "id": "jfzh6MGrtE_7",
        "colab_type": "code",
        "colab": {}
      },
      "source": [
        "lista_de_topicos = table.find_elements_by_xpath(\"//table/tbody/tr/th/header/h2\")"
      ],
      "execution_count": 0,
      "outputs": []
    },
    {
      "cell_type": "code",
      "metadata": {
        "id": "TfQF1kCFtLpA",
        "colab_type": "code",
        "colab": {
          "base_uri": "https://localhost:8080/",
          "height": 35
        },
        "outputId": "4a692fd6-cf84-4d28-a51f-c91437caf038"
      },
      "source": [
        "lista_de_topicos[0].text"
      ],
      "execution_count": 117,
      "outputs": [
        {
          "output_type": "execute_result",
          "data": {
            "text/plain": [
              "'Alimentação'"
            ]
          },
          "metadata": {
            "tags": []
          },
          "execution_count": 117
        }
      ]
    },
    {
      "cell_type": "code",
      "metadata": {
        "id": "g2cUQYITjXNb",
        "colab_type": "code",
        "colab": {}
      },
      "source": [
        "lista_de_tabelas_locais = table.find_elements_by_xpath(\"//table/tbody/tr/td/div\")"
      ],
      "execution_count": 0,
      "outputs": []
    },
    {
      "cell_type": "code",
      "metadata": {
        "id": "PR5EyzXdpOcj",
        "colab_type": "code",
        "colab": {
          "base_uri": "https://localhost:8080/",
          "height": 35
        },
        "outputId": "384d16ba-58f0-4cb9-bd7c-012046325152"
      },
      "source": [
        "i=0\n",
        "estabelecimento=lista_de_tabelas_locais[i].find_elements_by_tag_name('h3')[0].text\n",
        "estabelecimento"
      ],
      "execution_count": 119,
      "outputs": [
        {
          "output_type": "execute_result",
          "data": {
            "text/plain": [
              "'365 Deli'"
            ]
          },
          "metadata": {
            "tags": []
          },
          "execution_count": 119
        }
      ]
    },
    {
      "cell_type": "code",
      "metadata": {
        "id": "aSjUaPYemgRb",
        "colab_type": "code",
        "colab": {
          "base_uri": "https://localhost:8080/",
          "height": 121
        },
        "outputId": "84128944-cca0-4399-9df3-e73dbd4852bf"
      },
      "source": [
        "tabela=pd.read_html(lista_de_tabelas_locais[i].find_elements_by_tag_name('table')[0].get_attribute('outerHTML'))\n",
        "tabela"
      ],
      "execution_count": 120,
      "outputs": [
        {
          "output_type": "execute_result",
          "data": {
            "text/plain": [
              "[            0                     1          2               3              4\n",
              " 0  Terminal 2  Conector de Embarque        24h   (11)2445-4637  Área Restrita\n",
              " 1  Terminal 3              Embarque        24h   (11)2445-4637  Área Restrita\n",
              " 2  Terminal 3              Mezanino        24h  (11) 2445-4637  Área Restrita\n",
              " 3  Terminal 2            Píer Oeste        24h  (11) 2445-4637  Área Restrita\n",
              " 4  Terminal 3       Embarque Remoto  06h - 23h             NaN  Área Restrita]"
            ]
          },
          "metadata": {
            "tags": []
          },
          "execution_count": 120
        }
      ]
    },
    {
      "cell_type": "code",
      "metadata": {
        "id": "7mwNbtwnnpsT",
        "colab_type": "code",
        "colab": {
          "base_uri": "https://localhost:8080/",
          "height": 202
        },
        "outputId": "6457ba81-b562-413d-d4eb-03c330d6ee94"
      },
      "source": [
        "tabela_df = tabela[0]\n",
        "tabela_df"
      ],
      "execution_count": 121,
      "outputs": [
        {
          "output_type": "execute_result",
          "data": {
            "text/html": [
              "<div>\n",
              "<style scoped>\n",
              "    .dataframe tbody tr th:only-of-type {\n",
              "        vertical-align: middle;\n",
              "    }\n",
              "\n",
              "    .dataframe tbody tr th {\n",
              "        vertical-align: top;\n",
              "    }\n",
              "\n",
              "    .dataframe thead th {\n",
              "        text-align: right;\n",
              "    }\n",
              "</style>\n",
              "<table border=\"1\" class=\"dataframe\">\n",
              "  <thead>\n",
              "    <tr style=\"text-align: right;\">\n",
              "      <th></th>\n",
              "      <th>0</th>\n",
              "      <th>1</th>\n",
              "      <th>2</th>\n",
              "      <th>3</th>\n",
              "      <th>4</th>\n",
              "    </tr>\n",
              "  </thead>\n",
              "  <tbody>\n",
              "    <tr>\n",
              "      <th>0</th>\n",
              "      <td>Terminal 2</td>\n",
              "      <td>Conector de Embarque</td>\n",
              "      <td>24h</td>\n",
              "      <td>(11)2445-4637</td>\n",
              "      <td>Área Restrita</td>\n",
              "    </tr>\n",
              "    <tr>\n",
              "      <th>1</th>\n",
              "      <td>Terminal 3</td>\n",
              "      <td>Embarque</td>\n",
              "      <td>24h</td>\n",
              "      <td>(11)2445-4637</td>\n",
              "      <td>Área Restrita</td>\n",
              "    </tr>\n",
              "    <tr>\n",
              "      <th>2</th>\n",
              "      <td>Terminal 3</td>\n",
              "      <td>Mezanino</td>\n",
              "      <td>24h</td>\n",
              "      <td>(11) 2445-4637</td>\n",
              "      <td>Área Restrita</td>\n",
              "    </tr>\n",
              "    <tr>\n",
              "      <th>3</th>\n",
              "      <td>Terminal 2</td>\n",
              "      <td>Píer Oeste</td>\n",
              "      <td>24h</td>\n",
              "      <td>(11) 2445-4637</td>\n",
              "      <td>Área Restrita</td>\n",
              "    </tr>\n",
              "    <tr>\n",
              "      <th>4</th>\n",
              "      <td>Terminal 3</td>\n",
              "      <td>Embarque Remoto</td>\n",
              "      <td>06h - 23h</td>\n",
              "      <td>NaN</td>\n",
              "      <td>Área Restrita</td>\n",
              "    </tr>\n",
              "  </tbody>\n",
              "</table>\n",
              "</div>"
            ],
            "text/plain": [
              "            0                     1          2               3              4\n",
              "0  Terminal 2  Conector de Embarque        24h   (11)2445-4637  Área Restrita\n",
              "1  Terminal 3              Embarque        24h   (11)2445-4637  Área Restrita\n",
              "2  Terminal 3              Mezanino        24h  (11) 2445-4637  Área Restrita\n",
              "3  Terminal 2            Píer Oeste        24h  (11) 2445-4637  Área Restrita\n",
              "4  Terminal 3       Embarque Remoto  06h - 23h             NaN  Área Restrita"
            ]
          },
          "metadata": {
            "tags": []
          },
          "execution_count": 121
        }
      ]
    },
    {
      "cell_type": "code",
      "metadata": {
        "id": "kFEYB3z_urQC",
        "colab_type": "code",
        "colab": {}
      },
      "source": [
        "lista_nivel1 = table.find_elements_by_xpath(\"//table/tbody/tr\")"
      ],
      "execution_count": 0,
      "outputs": []
    },
    {
      "cell_type": "code",
      "metadata": {
        "id": "Lh7Ds0Q8Funw",
        "colab_type": "code",
        "colab": {
          "base_uri": "https://localhost:8080/",
          "height": 35
        },
        "outputId": "a268e7bd-5b46-4d47-9f76-7b35bbb26611"
      },
      "source": [
        "len(lista_nivel1)"
      ],
      "execution_count": 134,
      "outputs": [
        {
          "output_type": "execute_result",
          "data": {
            "text/plain": [
              "419"
            ]
          },
          "metadata": {
            "tags": []
          },
          "execution_count": 134
        }
      ]
    },
    {
      "cell_type": "code",
      "metadata": {
        "id": "l74eHhwUGkN4",
        "colab_type": "code",
        "colab": {
          "base_uri": "https://localhost:8080/",
          "height": 35
        },
        "outputId": "db938d08-8c56-45ad-b6af-64040c4400b9"
      },
      "source": [
        "lista_nivel1[0].find_elements_by_xpath(\"./th/header/h2\")"
      ],
      "execution_count": 152,
      "outputs": [
        {
          "output_type": "execute_result",
          "data": {
            "text/plain": [
              "[<selenium.webdriver.remote.webelement.WebElement (session=\"674455386a809913fe2c50db9d7162ed\", element=\"3aae26fb-3499-406e-a1ac-de55a6c9a652\")>]"
            ]
          },
          "metadata": {
            "tags": []
          },
          "execution_count": 152
        }
      ]
    },
    {
      "cell_type": "code",
      "metadata": {
        "id": "jzp0t8UZxnKi",
        "colab_type": "code",
        "colab": {}
      },
      "source": [
        "topico = \"\"\n",
        "tabela_local_html = \"\"\n",
        "loja = \"\"\n",
        "novas_colunas = {0: \"terminal\", 1: \"local\", 2: \"horario\", 3: \"telefone\", 4: \"tipo de acesso\"}\n",
        "colunas_ordenadas = ['topico', 'loja', 'terminal', 'local', 'horario', 'telefone', 'tipo de acesso']\n",
        "del tabela_local\n",
        "del tabela_final\n",
        "\n",
        "for item in lista_nivel1:\n",
        "    topico_html = item.find_elements_by_xpath(\"./th/header/h2\")\n",
        "    if topico_html:\n",
        "        topico = topico_html[0].text\n",
        "\n",
        "    tabela_local_html = item.find_elements_by_xpath(\"./td/div\")\n",
        "    if tabela_local_html:\n",
        "        loja = tabela_local_html[0].find_elements_by_tag_name('h3')[0].text\n",
        "        tabela_local = pd.read_html(tabela_local_html[0].find_elements_by_tag_name('table')[0].get_attribute('outerHTML'))[0]\n",
        "        tabela_local = tabela_local.rename(novas_colunas, axis='columns')\n",
        "        tabela_local = tabela_local.assign(topico=topico, loja=loja)\n",
        "        tabela_local = tabela_local[colunas_ordenadas]\n",
        "\n",
        "        try:\n",
        "            tabela_final = tabela_final.append(tabela_local, sort=False, ignore_index=True)\n",
        "        except:\n",
        "            tabela_final = tabela_local.copy()\n",
        " "
      ],
      "execution_count": 0,
      "outputs": []
    },
    {
      "cell_type": "code",
      "metadata": {
        "id": "R4OTAvL8M0L_",
        "colab_type": "code",
        "colab": {
          "base_uri": "https://localhost:8080/",
          "height": 415
        },
        "outputId": "97a93ad1-7c80-41d6-b535-57396094a983"
      },
      "source": [
        "display(tabela_final)"
      ],
      "execution_count": 202,
      "outputs": [
        {
          "output_type": "display_data",
          "data": {
            "text/html": [
              "<div>\n",
              "<style scoped>\n",
              "    .dataframe tbody tr th:only-of-type {\n",
              "        vertical-align: middle;\n",
              "    }\n",
              "\n",
              "    .dataframe tbody tr th {\n",
              "        vertical-align: top;\n",
              "    }\n",
              "\n",
              "    .dataframe thead th {\n",
              "        text-align: right;\n",
              "    }\n",
              "</style>\n",
              "<table border=\"1\" class=\"dataframe\">\n",
              "  <thead>\n",
              "    <tr style=\"text-align: right;\">\n",
              "      <th></th>\n",
              "      <th>topico</th>\n",
              "      <th>loja</th>\n",
              "      <th>terminal</th>\n",
              "      <th>local</th>\n",
              "      <th>horario</th>\n",
              "      <th>telefone</th>\n",
              "      <th>tipo de acesso</th>\n",
              "    </tr>\n",
              "  </thead>\n",
              "  <tbody>\n",
              "    <tr>\n",
              "      <th>0</th>\n",
              "      <td>Alimentação</td>\n",
              "      <td>365 Deli</td>\n",
              "      <td>Terminal 2</td>\n",
              "      <td>Conector de Embarque</td>\n",
              "      <td>24h</td>\n",
              "      <td>(11)2445-4637</td>\n",
              "      <td>Área Restrita</td>\n",
              "    </tr>\n",
              "    <tr>\n",
              "      <th>1</th>\n",
              "      <td>Alimentação</td>\n",
              "      <td>365 Deli</td>\n",
              "      <td>Terminal 3</td>\n",
              "      <td>Embarque</td>\n",
              "      <td>24h</td>\n",
              "      <td>(11)2445-4637</td>\n",
              "      <td>Área Restrita</td>\n",
              "    </tr>\n",
              "    <tr>\n",
              "      <th>2</th>\n",
              "      <td>Alimentação</td>\n",
              "      <td>365 Deli</td>\n",
              "      <td>Terminal 3</td>\n",
              "      <td>Mezanino</td>\n",
              "      <td>24h</td>\n",
              "      <td>(11) 2445-4637</td>\n",
              "      <td>Área Restrita</td>\n",
              "    </tr>\n",
              "    <tr>\n",
              "      <th>3</th>\n",
              "      <td>Alimentação</td>\n",
              "      <td>365 Deli</td>\n",
              "      <td>Terminal 2</td>\n",
              "      <td>Píer Oeste</td>\n",
              "      <td>24h</td>\n",
              "      <td>(11) 2445-4637</td>\n",
              "      <td>Área Restrita</td>\n",
              "    </tr>\n",
              "    <tr>\n",
              "      <th>4</th>\n",
              "      <td>Alimentação</td>\n",
              "      <td>365 Deli</td>\n",
              "      <td>Terminal 3</td>\n",
              "      <td>Embarque Remoto</td>\n",
              "      <td>06h - 23h</td>\n",
              "      <td>NaN</td>\n",
              "      <td>Área Restrita</td>\n",
              "    </tr>\n",
              "    <tr>\n",
              "      <th>...</th>\n",
              "      <td>...</td>\n",
              "      <td>...</td>\n",
              "      <td>...</td>\n",
              "      <td>...</td>\n",
              "      <td>...</td>\n",
              "      <td>...</td>\n",
              "      <td>...</td>\n",
              "    </tr>\n",
              "    <tr>\n",
              "      <th>246</th>\n",
              "      <td>Lojas</td>\n",
              "      <td>Vivara</td>\n",
              "      <td>Terminal 2</td>\n",
              "      <td>Embarque Leste</td>\n",
              "      <td>06h - 23h</td>\n",
              "      <td>NaN</td>\n",
              "      <td>Restrita</td>\n",
              "    </tr>\n",
              "    <tr>\n",
              "      <th>247</th>\n",
              "      <td>Lojas</td>\n",
              "      <td>Vivara</td>\n",
              "      <td>Terminal 3</td>\n",
              "      <td>Píer de Embarque</td>\n",
              "      <td>07h - 23h</td>\n",
              "      <td>NaN</td>\n",
              "      <td>Restrita</td>\n",
              "    </tr>\n",
              "    <tr>\n",
              "      <th>248</th>\n",
              "      <td>Lojas</td>\n",
              "      <td>WH Smith</td>\n",
              "      <td>Terminal 2</td>\n",
              "      <td>Leste</td>\n",
              "      <td>06h - 23h</td>\n",
              "      <td>NaN</td>\n",
              "      <td>Restrita</td>\n",
              "    </tr>\n",
              "    <tr>\n",
              "      <th>249</th>\n",
              "      <td>Lojas</td>\n",
              "      <td>WH Smith</td>\n",
              "      <td>Terminal 1</td>\n",
              "      <td>Embarque</td>\n",
              "      <td>06h - 23h</td>\n",
              "      <td>NaN</td>\n",
              "      <td>Restrita</td>\n",
              "    </tr>\n",
              "    <tr>\n",
              "      <th>250</th>\n",
              "      <td>Lojas</td>\n",
              "      <td>WH Smith</td>\n",
              "      <td>Terminal 3</td>\n",
              "      <td>Embarque</td>\n",
              "      <td>06h - 23h</td>\n",
              "      <td>NaN</td>\n",
              "      <td>Restrita</td>\n",
              "    </tr>\n",
              "  </tbody>\n",
              "</table>\n",
              "<p>251 rows × 7 columns</p>\n",
              "</div>"
            ],
            "text/plain": [
              "          topico      loja  ...        telefone tipo de acesso\n",
              "0    Alimentação  365 Deli  ...   (11)2445-4637  Área Restrita\n",
              "1    Alimentação  365 Deli  ...   (11)2445-4637  Área Restrita\n",
              "2    Alimentação  365 Deli  ...  (11) 2445-4637  Área Restrita\n",
              "3    Alimentação  365 Deli  ...  (11) 2445-4637  Área Restrita\n",
              "4    Alimentação  365 Deli  ...             NaN  Área Restrita\n",
              "..           ...       ...  ...             ...            ...\n",
              "246        Lojas    Vivara  ...             NaN       Restrita\n",
              "247        Lojas    Vivara  ...             NaN       Restrita\n",
              "248        Lojas  WH Smith  ...             NaN       Restrita\n",
              "249        Lojas  WH Smith  ...             NaN       Restrita\n",
              "250        Lojas  WH Smith  ...             NaN       Restrita\n",
              "\n",
              "[251 rows x 7 columns]"
            ]
          },
          "metadata": {
            "tags": []
          }
        }
      ]
    },
    {
      "cell_type": "code",
      "metadata": {
        "id": "777G7dY3WCoe",
        "colab_type": "code",
        "colab": {
          "base_uri": "https://localhost:8080/",
          "height": 35
        },
        "outputId": "2c14f58a-6655-41e4-bbd8-f20e6503db9f"
      },
      "source": [
        "tabela_final.shape"
      ],
      "execution_count": 204,
      "outputs": [
        {
          "output_type": "execute_result",
          "data": {
            "text/plain": [
              "(251, 7)"
            ]
          },
          "metadata": {
            "tags": []
          },
          "execution_count": 204
        }
      ]
    }
  ]
}