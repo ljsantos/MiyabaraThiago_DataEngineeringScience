{
 "cells": [
  {
   "cell_type": "code",
   "execution_count": 1,
   "metadata": {},
   "outputs": [],
   "source": [
    "import requests\n",
    "import pandas as pd\n",
    "import numpy as np \n",
    "import json\n",
    "from pandas.io.json import json_normalize\n",
    "\n",
    "import matplotlib.pyplot as plt\n",
    "import seaborn as sns\n",
    "\n",
    "sns.set()"
   ]
  },
  {
   "cell_type": "markdown",
   "metadata": {},
   "source": [
    "# Dados do Governo da Republica Federativa do BRASIL"
   ]
  },
  {
   "cell_type": "markdown",
   "metadata": {},
   "source": [
    "# Correspondentes bancários no país\n",
    "\n",
    "O arquivo disponibilizado apresenta os dados mais atuais dos pontos de atendimento dos correspondentes, por instituição financeira e por município, com a identificação dos tipos de serviços prestados, conforme descrito na Resolução 3.954.\n",
    "\n",
    "Aviso Legal: o teor das informações é de responsabilidade da respectiva instituição/empresa, de acordo com a regulamentação em vigor - ver mais: https://dadosabertos.bcb.gov.br/dataset/correspondentes\n"
   ]
  },
  {
   "cell_type": "markdown",
   "metadata": {},
   "source": [
    "Referência bibliográfica: https://fernandamelhem.jusbrasil.com.br/artigos/315457885/correspondentes-bancarios"
   ]
  },
  {
   "cell_type": "markdown",
   "metadata": {},
   "source": [
    "# Analise Exploratoria - EDA"
   ]
  },
  {
   "cell_type": "markdown",
   "metadata": {},
   "source": [
    "URL utilizada referente a API consumida\n",
    "\n",
    "Extração dos dados consumindo a API; Extração dos dados via arquivo Json baixado\n",
    "\n",
    "Transformação dos dados capturados em um DataSet\n",
    "\n",
    "Demonstração do DataSet criado"
   ]
  },
  {
   "cell_type": "code",
   "execution_count": 2,
   "metadata": {},
   "outputs": [
    {
     "data": {
      "text/html": [
       "<div>\n",
       "<style scoped>\n",
       "    .dataframe tbody tr th:only-of-type {\n",
       "        vertical-align: middle;\n",
       "    }\n",
       "\n",
       "    .dataframe tbody tr th {\n",
       "        vertical-align: top;\n",
       "    }\n",
       "\n",
       "    .dataframe thead th {\n",
       "        text-align: right;\n",
       "    }\n",
       "</style>\n",
       "<table border=\"1\" class=\"dataframe\">\n",
       "  <thead>\n",
       "    <tr style=\"text-align: right;\">\n",
       "      <th></th>\n",
       "      <th>@odata.context</th>\n",
       "      <th>value</th>\n",
       "    </tr>\n",
       "  </thead>\n",
       "  <tbody>\n",
       "    <tr>\n",
       "      <th>0</th>\n",
       "      <td>https://was-p.bcnet.bcb.gov.br/olinda/servico/...</td>\n",
       "      <td>{'CnpjContratante': '45441789', 'NomeContratan...</td>\n",
       "    </tr>\n",
       "    <tr>\n",
       "      <th>1</th>\n",
       "      <td>https://was-p.bcnet.bcb.gov.br/olinda/servico/...</td>\n",
       "      <td>{'CnpjContratante': '45441789', 'NomeContratan...</td>\n",
       "    </tr>\n",
       "    <tr>\n",
       "      <th>2</th>\n",
       "      <td>https://was-p.bcnet.bcb.gov.br/olinda/servico/...</td>\n",
       "      <td>{'CnpjContratante': '45441789', 'NomeContratan...</td>\n",
       "    </tr>\n",
       "    <tr>\n",
       "      <th>3</th>\n",
       "      <td>https://was-p.bcnet.bcb.gov.br/olinda/servico/...</td>\n",
       "      <td>{'CnpjContratante': '45441789', 'NomeContratan...</td>\n",
       "    </tr>\n",
       "    <tr>\n",
       "      <th>4</th>\n",
       "      <td>https://was-p.bcnet.bcb.gov.br/olinda/servico/...</td>\n",
       "      <td>{'CnpjContratante': '36321990', 'NomeContratan...</td>\n",
       "    </tr>\n",
       "  </tbody>\n",
       "</table>\n",
       "</div>"
      ],
      "text/plain": [
       "                                      @odata.context  \\\n",
       "0  https://was-p.bcnet.bcb.gov.br/olinda/servico/...   \n",
       "1  https://was-p.bcnet.bcb.gov.br/olinda/servico/...   \n",
       "2  https://was-p.bcnet.bcb.gov.br/olinda/servico/...   \n",
       "3  https://was-p.bcnet.bcb.gov.br/olinda/servico/...   \n",
       "4  https://was-p.bcnet.bcb.gov.br/olinda/servico/...   \n",
       "\n",
       "                                               value  \n",
       "0  {'CnpjContratante': '45441789', 'NomeContratan...  \n",
       "1  {'CnpjContratante': '45441789', 'NomeContratan...  \n",
       "2  {'CnpjContratante': '45441789', 'NomeContratan...  \n",
       "3  {'CnpjContratante': '45441789', 'NomeContratan...  \n",
       "4  {'CnpjContratante': '36321990', 'NomeContratan...  "
      ]
     },
     "execution_count": 2,
     "metadata": {},
     "output_type": "execute_result"
    }
   ],
   "source": [
    "#Consumindo dados Via API\n",
    "    #cUrl = \"https://olinda.bcb.gov.br/olinda/servico/Informes_Correspondentes/versao/v1/odata/Correspondentes?$top=100&$format=json&$select=CnpjContratante,NomeContratante,CnpjCorrespondente,NomeCorrespondente,Tipo,Ordem,MunicipioIBGE,Municipio,UF,ServicosCorrespondentes,Posicao\"\n",
    "    #cUrl = \"https://olinda.bcb.gov.br/olinda/servico/Informes_Correspondentes/versao/v1/odata/Correspondentes?$top=10000&$format=json\"\n",
    "    #cUrl = \"https://olinda.bcb.gov.br/olinda/servico/Informes_Correspondentes/versao/v1/odata/Correspondentes?$format=json\"\n",
    "    #dados = pd.read_json(cUrl)\n",
    "#Acessando Json baixado no dia 03/11/2019 utilizando a url :\n",
    "    #https://olinda.bcb.gov.br/olinda/servico/Informes_Correspondentes/versao/v1/odata/Correspondentes?$top=1000000000000&$format=json     \n",
    "\n",
    "dados = pd.read_json(\".\\Correspondentes.json\")    \n",
    "df = pd.DataFrame(dados) \n",
    "df.head()"
   ]
  },
  {
   "cell_type": "markdown",
   "metadata": {},
   "source": [
    " Normalizando o campo value(composto por colunas e linhas referentes aos dados dos correspondentes)"
   ]
  },
  {
   "cell_type": "code",
   "execution_count": 3,
   "metadata": {},
   "outputs": [
    {
     "data": {
      "text/html": [
       "<div>\n",
       "<style scoped>\n",
       "    .dataframe tbody tr th:only-of-type {\n",
       "        vertical-align: middle;\n",
       "    }\n",
       "\n",
       "    .dataframe tbody tr th {\n",
       "        vertical-align: top;\n",
       "    }\n",
       "\n",
       "    .dataframe thead th {\n",
       "        text-align: right;\n",
       "    }\n",
       "</style>\n",
       "<table border=\"1\" class=\"dataframe\">\n",
       "  <thead>\n",
       "    <tr style=\"text-align: right;\">\n",
       "      <th></th>\n",
       "      <th>CnpjContratante</th>\n",
       "      <th>NomeContratante</th>\n",
       "      <th>CnpjCorrespondente</th>\n",
       "      <th>NomeCorrespondente</th>\n",
       "      <th>Tipo</th>\n",
       "      <th>Ordem</th>\n",
       "      <th>MunicipioIBGE</th>\n",
       "      <th>Municipio</th>\n",
       "      <th>UF</th>\n",
       "      <th>ServicosCorrespondentes</th>\n",
       "      <th>Posicao</th>\n",
       "    </tr>\n",
       "  </thead>\n",
       "  <tbody>\n",
       "    <tr>\n",
       "      <th>0</th>\n",
       "      <td>45441789</td>\n",
       "      <td>ADMINISTRADORA DE CONSORCIO NACIONAL HONDA LTDA</td>\n",
       "      <td>25134887</td>\n",
       "      <td>H MOTOS CARIOCA LTDA</td>\n",
       "      <td>Sede</td>\n",
       "      <td>I00001</td>\n",
       "      <td>3303302</td>\n",
       "      <td>NITEROI</td>\n",
       "      <td>RJ</td>\n",
       "      <td>Inc. V</td>\n",
       "      <td>31/10/2019</td>\n",
       "    </tr>\n",
       "    <tr>\n",
       "      <th>1</th>\n",
       "      <td>45441789</td>\n",
       "      <td>ADMINISTRADORA DE CONSORCIO NACIONAL HONDA LTDA</td>\n",
       "      <td>25134887</td>\n",
       "      <td>H MOTOS CARIOCA LTDA</td>\n",
       "      <td>Filial</td>\n",
       "      <td>I00002</td>\n",
       "      <td>3304904</td>\n",
       "      <td>SAO GONCALO</td>\n",
       "      <td>RJ</td>\n",
       "      <td>Inc. V</td>\n",
       "      <td>31/10/2019</td>\n",
       "    </tr>\n",
       "    <tr>\n",
       "      <th>2</th>\n",
       "      <td>45441789</td>\n",
       "      <td>ADMINISTRADORA DE CONSORCIO NACIONAL HONDA LTDA</td>\n",
       "      <td>26108857</td>\n",
       "      <td>PAU BRASIL BAHIA COMERCIO DE MOTOS LTDA</td>\n",
       "      <td>Sede</td>\n",
       "      <td>I00001</td>\n",
       "      <td>2918407</td>\n",
       "      <td>JUAZEIRO</td>\n",
       "      <td>BA</td>\n",
       "      <td>Inc. V</td>\n",
       "      <td>31/10/2019</td>\n",
       "    </tr>\n",
       "    <tr>\n",
       "      <th>3</th>\n",
       "      <td>45441789</td>\n",
       "      <td>ADMINISTRADORA DE CONSORCIO NACIONAL HONDA LTDA</td>\n",
       "      <td>26105548</td>\n",
       "      <td>PAU BRASIL PERNAMBUCO COMERCIO DE MOTOS LTDA</td>\n",
       "      <td>Sede</td>\n",
       "      <td>I00001</td>\n",
       "      <td>2611101</td>\n",
       "      <td>PETROLINA</td>\n",
       "      <td>PE</td>\n",
       "      <td>Inc. V</td>\n",
       "      <td>31/10/2019</td>\n",
       "    </tr>\n",
       "    <tr>\n",
       "      <th>4</th>\n",
       "      <td>36321990</td>\n",
       "      <td>AGORACRED S/A SOCIEDADE DE CRÃ‰DITO, FINANCIAM...</td>\n",
       "      <td>02911625</td>\n",
       "      <td>5 IRMAOS MOVEIS LTDA</td>\n",
       "      <td>Sede</td>\n",
       "      <td>I00001</td>\n",
       "      <td>3205002</td>\n",
       "      <td>SERRA</td>\n",
       "      <td>ES</td>\n",
       "      <td>Inc. III, Inc. V, Inc. VIII</td>\n",
       "      <td>31/10/2019</td>\n",
       "    </tr>\n",
       "  </tbody>\n",
       "</table>\n",
       "</div>"
      ],
      "text/plain": [
       "  CnpjContratante                                    NomeContratante  \\\n",
       "0        45441789    ADMINISTRADORA DE CONSORCIO NACIONAL HONDA LTDA   \n",
       "1        45441789    ADMINISTRADORA DE CONSORCIO NACIONAL HONDA LTDA   \n",
       "2        45441789    ADMINISTRADORA DE CONSORCIO NACIONAL HONDA LTDA   \n",
       "3        45441789    ADMINISTRADORA DE CONSORCIO NACIONAL HONDA LTDA   \n",
       "4        36321990  AGORACRED S/A SOCIEDADE DE CRÃ‰DITO, FINANCIAM...   \n",
       "\n",
       "  CnpjCorrespondente                            NomeCorrespondente    Tipo  \\\n",
       "0           25134887                          H MOTOS CARIOCA LTDA    Sede   \n",
       "1           25134887                          H MOTOS CARIOCA LTDA  Filial   \n",
       "2           26108857       PAU BRASIL BAHIA COMERCIO DE MOTOS LTDA    Sede   \n",
       "3           26105548  PAU BRASIL PERNAMBUCO COMERCIO DE MOTOS LTDA    Sede   \n",
       "4           02911625                          5 IRMAOS MOVEIS LTDA    Sede   \n",
       "\n",
       "    Ordem MunicipioIBGE    Municipio  UF      ServicosCorrespondentes  \\\n",
       "0  I00001       3303302      NITEROI  RJ                       Inc. V   \n",
       "1  I00002       3304904  SAO GONCALO  RJ                       Inc. V   \n",
       "2  I00001       2918407     JUAZEIRO  BA                       Inc. V   \n",
       "3  I00001       2611101    PETROLINA  PE                       Inc. V   \n",
       "4  I00001       3205002        SERRA  ES  Inc. III, Inc. V, Inc. VIII   \n",
       "\n",
       "      Posicao  \n",
       "0  31/10/2019  \n",
       "1  31/10/2019  \n",
       "2  31/10/2019  \n",
       "3  31/10/2019  \n",
       "4  31/10/2019  "
      ]
     },
     "execution_count": 3,
     "metadata": {},
     "output_type": "execute_result"
    }
   ],
   "source": [
    "dfnew = (json_normalize(df.value))\n",
    "dfnew.head()"
   ]
  },
  {
   "cell_type": "markdown",
   "metadata": {},
   "source": [
    "Criando compo link com os dados da coluna @odata.context"
   ]
  },
  {
   "cell_type": "code",
   "execution_count": 4,
   "metadata": {},
   "outputs": [
    {
     "data": {
      "text/html": [
       "<div>\n",
       "<style scoped>\n",
       "    .dataframe tbody tr th:only-of-type {\n",
       "        vertical-align: middle;\n",
       "    }\n",
       "\n",
       "    .dataframe tbody tr th {\n",
       "        vertical-align: top;\n",
       "    }\n",
       "\n",
       "    .dataframe thead th {\n",
       "        text-align: right;\n",
       "    }\n",
       "</style>\n",
       "<table border=\"1\" class=\"dataframe\">\n",
       "  <thead>\n",
       "    <tr style=\"text-align: right;\">\n",
       "      <th></th>\n",
       "      <th>CnpjContratante</th>\n",
       "      <th>NomeContratante</th>\n",
       "      <th>CnpjCorrespondente</th>\n",
       "      <th>NomeCorrespondente</th>\n",
       "      <th>Tipo</th>\n",
       "      <th>Ordem</th>\n",
       "      <th>MunicipioIBGE</th>\n",
       "      <th>Municipio</th>\n",
       "      <th>UF</th>\n",
       "      <th>ServicosCorrespondentes</th>\n",
       "      <th>Posicao</th>\n",
       "      <th>urlserv</th>\n",
       "    </tr>\n",
       "  </thead>\n",
       "  <tbody>\n",
       "    <tr>\n",
       "      <th>0</th>\n",
       "      <td>45441789</td>\n",
       "      <td>ADMINISTRADORA DE CONSORCIO NACIONAL HONDA LTDA</td>\n",
       "      <td>25134887</td>\n",
       "      <td>H MOTOS CARIOCA LTDA</td>\n",
       "      <td>Sede</td>\n",
       "      <td>I00001</td>\n",
       "      <td>3303302</td>\n",
       "      <td>NITEROI</td>\n",
       "      <td>RJ</td>\n",
       "      <td>Inc. V</td>\n",
       "      <td>31/10/2019</td>\n",
       "      <td>https://was-p.bcnet.bcb.gov.br/olinda/servico/...</td>\n",
       "    </tr>\n",
       "    <tr>\n",
       "      <th>1</th>\n",
       "      <td>45441789</td>\n",
       "      <td>ADMINISTRADORA DE CONSORCIO NACIONAL HONDA LTDA</td>\n",
       "      <td>25134887</td>\n",
       "      <td>H MOTOS CARIOCA LTDA</td>\n",
       "      <td>Filial</td>\n",
       "      <td>I00002</td>\n",
       "      <td>3304904</td>\n",
       "      <td>SAO GONCALO</td>\n",
       "      <td>RJ</td>\n",
       "      <td>Inc. V</td>\n",
       "      <td>31/10/2019</td>\n",
       "      <td>https://was-p.bcnet.bcb.gov.br/olinda/servico/...</td>\n",
       "    </tr>\n",
       "    <tr>\n",
       "      <th>2</th>\n",
       "      <td>45441789</td>\n",
       "      <td>ADMINISTRADORA DE CONSORCIO NACIONAL HONDA LTDA</td>\n",
       "      <td>26108857</td>\n",
       "      <td>PAU BRASIL BAHIA COMERCIO DE MOTOS LTDA</td>\n",
       "      <td>Sede</td>\n",
       "      <td>I00001</td>\n",
       "      <td>2918407</td>\n",
       "      <td>JUAZEIRO</td>\n",
       "      <td>BA</td>\n",
       "      <td>Inc. V</td>\n",
       "      <td>31/10/2019</td>\n",
       "      <td>https://was-p.bcnet.bcb.gov.br/olinda/servico/...</td>\n",
       "    </tr>\n",
       "    <tr>\n",
       "      <th>3</th>\n",
       "      <td>45441789</td>\n",
       "      <td>ADMINISTRADORA DE CONSORCIO NACIONAL HONDA LTDA</td>\n",
       "      <td>26105548</td>\n",
       "      <td>PAU BRASIL PERNAMBUCO COMERCIO DE MOTOS LTDA</td>\n",
       "      <td>Sede</td>\n",
       "      <td>I00001</td>\n",
       "      <td>2611101</td>\n",
       "      <td>PETROLINA</td>\n",
       "      <td>PE</td>\n",
       "      <td>Inc. V</td>\n",
       "      <td>31/10/2019</td>\n",
       "      <td>https://was-p.bcnet.bcb.gov.br/olinda/servico/...</td>\n",
       "    </tr>\n",
       "    <tr>\n",
       "      <th>4</th>\n",
       "      <td>36321990</td>\n",
       "      <td>AGORACRED S/A SOCIEDADE DE CRÃ‰DITO, FINANCIAM...</td>\n",
       "      <td>02911625</td>\n",
       "      <td>5 IRMAOS MOVEIS LTDA</td>\n",
       "      <td>Sede</td>\n",
       "      <td>I00001</td>\n",
       "      <td>3205002</td>\n",
       "      <td>SERRA</td>\n",
       "      <td>ES</td>\n",
       "      <td>Inc. III, Inc. V, Inc. VIII</td>\n",
       "      <td>31/10/2019</td>\n",
       "      <td>https://was-p.bcnet.bcb.gov.br/olinda/servico/...</td>\n",
       "    </tr>\n",
       "  </tbody>\n",
       "</table>\n",
       "</div>"
      ],
      "text/plain": [
       "  CnpjContratante                                    NomeContratante  \\\n",
       "0        45441789    ADMINISTRADORA DE CONSORCIO NACIONAL HONDA LTDA   \n",
       "1        45441789    ADMINISTRADORA DE CONSORCIO NACIONAL HONDA LTDA   \n",
       "2        45441789    ADMINISTRADORA DE CONSORCIO NACIONAL HONDA LTDA   \n",
       "3        45441789    ADMINISTRADORA DE CONSORCIO NACIONAL HONDA LTDA   \n",
       "4        36321990  AGORACRED S/A SOCIEDADE DE CRÃ‰DITO, FINANCIAM...   \n",
       "\n",
       "  CnpjCorrespondente                            NomeCorrespondente    Tipo  \\\n",
       "0           25134887                          H MOTOS CARIOCA LTDA    Sede   \n",
       "1           25134887                          H MOTOS CARIOCA LTDA  Filial   \n",
       "2           26108857       PAU BRASIL BAHIA COMERCIO DE MOTOS LTDA    Sede   \n",
       "3           26105548  PAU BRASIL PERNAMBUCO COMERCIO DE MOTOS LTDA    Sede   \n",
       "4           02911625                          5 IRMAOS MOVEIS LTDA    Sede   \n",
       "\n",
       "    Ordem MunicipioIBGE    Municipio  UF      ServicosCorrespondentes  \\\n",
       "0  I00001       3303302      NITEROI  RJ                       Inc. V   \n",
       "1  I00002       3304904  SAO GONCALO  RJ                       Inc. V   \n",
       "2  I00001       2918407     JUAZEIRO  BA                       Inc. V   \n",
       "3  I00001       2611101    PETROLINA  PE                       Inc. V   \n",
       "4  I00001       3205002        SERRA  ES  Inc. III, Inc. V, Inc. VIII   \n",
       "\n",
       "      Posicao                                            urlserv  \n",
       "0  31/10/2019  https://was-p.bcnet.bcb.gov.br/olinda/servico/...  \n",
       "1  31/10/2019  https://was-p.bcnet.bcb.gov.br/olinda/servico/...  \n",
       "2  31/10/2019  https://was-p.bcnet.bcb.gov.br/olinda/servico/...  \n",
       "3  31/10/2019  https://was-p.bcnet.bcb.gov.br/olinda/servico/...  \n",
       "4  31/10/2019  https://was-p.bcnet.bcb.gov.br/olinda/servico/...  "
      ]
     },
     "execution_count": 4,
     "metadata": {},
     "output_type": "execute_result"
    }
   ],
   "source": [
    "dfnew['urlserv'] = df['@odata.context'] \n",
    "dfnew.head()"
   ]
  },
  {
   "cell_type": "markdown",
   "metadata": {},
   "source": [
    "Tamanho do DataSet"
   ]
  },
  {
   "cell_type": "code",
   "execution_count": 5,
   "metadata": {},
   "outputs": [
    {
     "data": {
      "text/plain": [
       "(387847, 12)"
      ]
     },
     "execution_count": 5,
     "metadata": {},
     "output_type": "execute_result"
    }
   ],
   "source": [
    "dfnew.shape"
   ]
  },
  {
   "cell_type": "code",
   "execution_count": 6,
   "metadata": {},
   "outputs": [
    {
     "data": {
      "text/plain": [
       "Index(['CnpjContratante', 'NomeContratante', 'CnpjCorrespondente',\n",
       "       'NomeCorrespondente', 'Tipo', 'Ordem', 'MunicipioIBGE', 'Municipio',\n",
       "       'UF', 'ServicosCorrespondentes', 'Posicao', 'urlserv'],\n",
       "      dtype='object')"
      ]
     },
     "execution_count": 6,
     "metadata": {},
     "output_type": "execute_result"
    }
   ],
   "source": [
    "dfnew.columns"
   ]
  },
  {
   "cell_type": "code",
   "execution_count": 7,
   "metadata": {},
   "outputs": [
    {
     "name": "stdout",
     "output_type": "stream",
     "text": [
      "<class 'pandas.core.frame.DataFrame'>\n",
      "RangeIndex: 387847 entries, 0 to 387846\n",
      "Data columns (total 12 columns):\n",
      "CnpjContratante            387847 non-null object\n",
      "NomeContratante            387847 non-null object\n",
      "CnpjCorrespondente         387847 non-null object\n",
      "NomeCorrespondente         387847 non-null object\n",
      "Tipo                       387847 non-null object\n",
      "Ordem                      387847 non-null object\n",
      "MunicipioIBGE              387367 non-null object\n",
      "Municipio                  387823 non-null object\n",
      "UF                         387823 non-null object\n",
      "ServicosCorrespondentes    387847 non-null object\n",
      "Posicao                    387847 non-null object\n",
      "urlserv                    387847 non-null object\n",
      "dtypes: object(12)\n",
      "memory usage: 35.5+ MB\n"
     ]
    }
   ],
   "source": [
    "dfnew.info()"
   ]
  },
  {
   "cell_type": "markdown",
   "metadata": {},
   "source": [
    "df1 ira receber apenas linhas sem valores nulos\n",
    "\n",
    "df2 ira receber apenas linhas com valores nulos"
   ]
  },
  {
   "cell_type": "code",
   "execution_count": 8,
   "metadata": {},
   "outputs": [],
   "source": [
    "df1 = dfnew.dropna()\n",
    "df2 = dfnew[pd.isnull(dfnew).any(axis=1)]"
   ]
  },
  {
   "cell_type": "code",
   "execution_count": 9,
   "metadata": {},
   "outputs": [
    {
     "data": {
      "text/html": [
       "<div>\n",
       "<style scoped>\n",
       "    .dataframe tbody tr th:only-of-type {\n",
       "        vertical-align: middle;\n",
       "    }\n",
       "\n",
       "    .dataframe tbody tr th {\n",
       "        vertical-align: top;\n",
       "    }\n",
       "\n",
       "    .dataframe thead th {\n",
       "        text-align: right;\n",
       "    }\n",
       "</style>\n",
       "<table border=\"1\" class=\"dataframe\">\n",
       "  <thead>\n",
       "    <tr style=\"text-align: right;\">\n",
       "      <th></th>\n",
       "      <th>CnpjContratante</th>\n",
       "      <th>NomeContratante</th>\n",
       "      <th>CnpjCorrespondente</th>\n",
       "      <th>NomeCorrespondente</th>\n",
       "      <th>Tipo</th>\n",
       "      <th>Ordem</th>\n",
       "      <th>MunicipioIBGE</th>\n",
       "      <th>Municipio</th>\n",
       "      <th>UF</th>\n",
       "      <th>ServicosCorrespondentes</th>\n",
       "      <th>Posicao</th>\n",
       "      <th>urlserv</th>\n",
       "    </tr>\n",
       "  </thead>\n",
       "  <tbody>\n",
       "    <tr>\n",
       "      <th>0</th>\n",
       "      <td>45441789</td>\n",
       "      <td>ADMINISTRADORA DE CONSORCIO NACIONAL HONDA LTDA</td>\n",
       "      <td>25134887</td>\n",
       "      <td>H MOTOS CARIOCA LTDA</td>\n",
       "      <td>Sede</td>\n",
       "      <td>I00001</td>\n",
       "      <td>3303302</td>\n",
       "      <td>NITEROI</td>\n",
       "      <td>RJ</td>\n",
       "      <td>Inc. V</td>\n",
       "      <td>31/10/2019</td>\n",
       "      <td>https://was-p.bcnet.bcb.gov.br/olinda/servico/...</td>\n",
       "    </tr>\n",
       "    <tr>\n",
       "      <th>1</th>\n",
       "      <td>45441789</td>\n",
       "      <td>ADMINISTRADORA DE CONSORCIO NACIONAL HONDA LTDA</td>\n",
       "      <td>25134887</td>\n",
       "      <td>H MOTOS CARIOCA LTDA</td>\n",
       "      <td>Filial</td>\n",
       "      <td>I00002</td>\n",
       "      <td>3304904</td>\n",
       "      <td>SAO GONCALO</td>\n",
       "      <td>RJ</td>\n",
       "      <td>Inc. V</td>\n",
       "      <td>31/10/2019</td>\n",
       "      <td>https://was-p.bcnet.bcb.gov.br/olinda/servico/...</td>\n",
       "    </tr>\n",
       "    <tr>\n",
       "      <th>2</th>\n",
       "      <td>45441789</td>\n",
       "      <td>ADMINISTRADORA DE CONSORCIO NACIONAL HONDA LTDA</td>\n",
       "      <td>26108857</td>\n",
       "      <td>PAU BRASIL BAHIA COMERCIO DE MOTOS LTDA</td>\n",
       "      <td>Sede</td>\n",
       "      <td>I00001</td>\n",
       "      <td>2918407</td>\n",
       "      <td>JUAZEIRO</td>\n",
       "      <td>BA</td>\n",
       "      <td>Inc. V</td>\n",
       "      <td>31/10/2019</td>\n",
       "      <td>https://was-p.bcnet.bcb.gov.br/olinda/servico/...</td>\n",
       "    </tr>\n",
       "    <tr>\n",
       "      <th>3</th>\n",
       "      <td>45441789</td>\n",
       "      <td>ADMINISTRADORA DE CONSORCIO NACIONAL HONDA LTDA</td>\n",
       "      <td>26105548</td>\n",
       "      <td>PAU BRASIL PERNAMBUCO COMERCIO DE MOTOS LTDA</td>\n",
       "      <td>Sede</td>\n",
       "      <td>I00001</td>\n",
       "      <td>2611101</td>\n",
       "      <td>PETROLINA</td>\n",
       "      <td>PE</td>\n",
       "      <td>Inc. V</td>\n",
       "      <td>31/10/2019</td>\n",
       "      <td>https://was-p.bcnet.bcb.gov.br/olinda/servico/...</td>\n",
       "    </tr>\n",
       "    <tr>\n",
       "      <th>4</th>\n",
       "      <td>36321990</td>\n",
       "      <td>AGORACRED S/A SOCIEDADE DE CRÃ‰DITO, FINANCIAM...</td>\n",
       "      <td>02911625</td>\n",
       "      <td>5 IRMAOS MOVEIS LTDA</td>\n",
       "      <td>Sede</td>\n",
       "      <td>I00001</td>\n",
       "      <td>3205002</td>\n",
       "      <td>SERRA</td>\n",
       "      <td>ES</td>\n",
       "      <td>Inc. III, Inc. V, Inc. VIII</td>\n",
       "      <td>31/10/2019</td>\n",
       "      <td>https://was-p.bcnet.bcb.gov.br/olinda/servico/...</td>\n",
       "    </tr>\n",
       "  </tbody>\n",
       "</table>\n",
       "</div>"
      ],
      "text/plain": [
       "  CnpjContratante                                    NomeContratante  \\\n",
       "0        45441789    ADMINISTRADORA DE CONSORCIO NACIONAL HONDA LTDA   \n",
       "1        45441789    ADMINISTRADORA DE CONSORCIO NACIONAL HONDA LTDA   \n",
       "2        45441789    ADMINISTRADORA DE CONSORCIO NACIONAL HONDA LTDA   \n",
       "3        45441789    ADMINISTRADORA DE CONSORCIO NACIONAL HONDA LTDA   \n",
       "4        36321990  AGORACRED S/A SOCIEDADE DE CRÃ‰DITO, FINANCIAM...   \n",
       "\n",
       "  CnpjCorrespondente                            NomeCorrespondente    Tipo  \\\n",
       "0           25134887                          H MOTOS CARIOCA LTDA    Sede   \n",
       "1           25134887                          H MOTOS CARIOCA LTDA  Filial   \n",
       "2           26108857       PAU BRASIL BAHIA COMERCIO DE MOTOS LTDA    Sede   \n",
       "3           26105548  PAU BRASIL PERNAMBUCO COMERCIO DE MOTOS LTDA    Sede   \n",
       "4           02911625                          5 IRMAOS MOVEIS LTDA    Sede   \n",
       "\n",
       "    Ordem MunicipioIBGE    Municipio  UF      ServicosCorrespondentes  \\\n",
       "0  I00001       3303302      NITEROI  RJ                       Inc. V   \n",
       "1  I00002       3304904  SAO GONCALO  RJ                       Inc. V   \n",
       "2  I00001       2918407     JUAZEIRO  BA                       Inc. V   \n",
       "3  I00001       2611101    PETROLINA  PE                       Inc. V   \n",
       "4  I00001       3205002        SERRA  ES  Inc. III, Inc. V, Inc. VIII   \n",
       "\n",
       "      Posicao                                            urlserv  \n",
       "0  31/10/2019  https://was-p.bcnet.bcb.gov.br/olinda/servico/...  \n",
       "1  31/10/2019  https://was-p.bcnet.bcb.gov.br/olinda/servico/...  \n",
       "2  31/10/2019  https://was-p.bcnet.bcb.gov.br/olinda/servico/...  \n",
       "3  31/10/2019  https://was-p.bcnet.bcb.gov.br/olinda/servico/...  \n",
       "4  31/10/2019  https://was-p.bcnet.bcb.gov.br/olinda/servico/...  "
      ]
     },
     "execution_count": 9,
     "metadata": {},
     "output_type": "execute_result"
    }
   ],
   "source": [
    "df1.head()"
   ]
  },
  {
   "cell_type": "code",
   "execution_count": 10,
   "metadata": {},
   "outputs": [
    {
     "data": {
      "text/html": [
       "<div>\n",
       "<style scoped>\n",
       "    .dataframe tbody tr th:only-of-type {\n",
       "        vertical-align: middle;\n",
       "    }\n",
       "\n",
       "    .dataframe tbody tr th {\n",
       "        vertical-align: top;\n",
       "    }\n",
       "\n",
       "    .dataframe thead th {\n",
       "        text-align: right;\n",
       "    }\n",
       "</style>\n",
       "<table border=\"1\" class=\"dataframe\">\n",
       "  <thead>\n",
       "    <tr style=\"text-align: right;\">\n",
       "      <th></th>\n",
       "      <th>CnpjContratante</th>\n",
       "      <th>NomeContratante</th>\n",
       "      <th>CnpjCorrespondente</th>\n",
       "      <th>NomeCorrespondente</th>\n",
       "      <th>Tipo</th>\n",
       "      <th>Ordem</th>\n",
       "      <th>MunicipioIBGE</th>\n",
       "      <th>Municipio</th>\n",
       "      <th>UF</th>\n",
       "      <th>ServicosCorrespondentes</th>\n",
       "      <th>Posicao</th>\n",
       "      <th>urlserv</th>\n",
       "    </tr>\n",
       "  </thead>\n",
       "  <tbody>\n",
       "    <tr>\n",
       "      <th>3033</th>\n",
       "      <td>46570800</td>\n",
       "      <td>ALFA ARRENDAMENTO MERCANTIL S.A.</td>\n",
       "      <td>00549675</td>\n",
       "      <td>OCT VEICULOS LTDA</td>\n",
       "      <td>Sede</td>\n",
       "      <td>I00001</td>\n",
       "      <td>None</td>\n",
       "      <td>BRASILIA (TAGUATINGA)</td>\n",
       "      <td>DF</td>\n",
       "      <td>Inc. V</td>\n",
       "      <td>31/10/2019</td>\n",
       "      <td>https://was-p.bcnet.bcb.gov.br/olinda/servico/...</td>\n",
       "    </tr>\n",
       "    <tr>\n",
       "      <th>3316</th>\n",
       "      <td>46570800</td>\n",
       "      <td>ALFA ARRENDAMENTO MERCANTIL S.A.</td>\n",
       "      <td>09348217</td>\n",
       "      <td>SADIF COMERCIO DE VEICULOS LTDA</td>\n",
       "      <td>Filial</td>\n",
       "      <td>I00002</td>\n",
       "      <td>None</td>\n",
       "      <td>BRASILIA (GAMA)</td>\n",
       "      <td>DF</td>\n",
       "      <td>Inc. V</td>\n",
       "      <td>31/10/2019</td>\n",
       "      <td>https://was-p.bcnet.bcb.gov.br/olinda/servico/...</td>\n",
       "    </tr>\n",
       "    <tr>\n",
       "      <th>3320</th>\n",
       "      <td>46570800</td>\n",
       "      <td>ALFA ARRENDAMENTO MERCANTIL S.A.</td>\n",
       "      <td>00752386</td>\n",
       "      <td>SAFARI COMERCIO DE VEICULOS LTDA.</td>\n",
       "      <td>Filial</td>\n",
       "      <td>I00024</td>\n",
       "      <td>None</td>\n",
       "      <td>BRASILIA (GUARA)</td>\n",
       "      <td>DF</td>\n",
       "      <td>Inc. V</td>\n",
       "      <td>31/10/2019</td>\n",
       "      <td>https://was-p.bcnet.bcb.gov.br/olinda/servico/...</td>\n",
       "    </tr>\n",
       "    <tr>\n",
       "      <th>3321</th>\n",
       "      <td>46570800</td>\n",
       "      <td>ALFA ARRENDAMENTO MERCANTIL S.A.</td>\n",
       "      <td>00752386</td>\n",
       "      <td>SAFARI COMERCIO DE VEICULOS LTDA.</td>\n",
       "      <td>Filial</td>\n",
       "      <td>I00026</td>\n",
       "      <td>None</td>\n",
       "      <td>BRASILIA (GUARA)</td>\n",
       "      <td>DF</td>\n",
       "      <td>Inc. V</td>\n",
       "      <td>31/10/2019</td>\n",
       "      <td>https://was-p.bcnet.bcb.gov.br/olinda/servico/...</td>\n",
       "    </tr>\n",
       "    <tr>\n",
       "      <th>3322</th>\n",
       "      <td>46570800</td>\n",
       "      <td>ALFA ARRENDAMENTO MERCANTIL S.A.</td>\n",
       "      <td>00752386</td>\n",
       "      <td>SAFARI COMERCIO DE VEICULOS LTDA.</td>\n",
       "      <td>Filial</td>\n",
       "      <td>I00028</td>\n",
       "      <td>None</td>\n",
       "      <td>BRASILIA (GUARA)</td>\n",
       "      <td>DF</td>\n",
       "      <td>Inc. V</td>\n",
       "      <td>31/10/2019</td>\n",
       "      <td>https://was-p.bcnet.bcb.gov.br/olinda/servico/...</td>\n",
       "    </tr>\n",
       "  </tbody>\n",
       "</table>\n",
       "</div>"
      ],
      "text/plain": [
       "     CnpjContratante                   NomeContratante CnpjCorrespondente  \\\n",
       "3033        46570800  ALFA ARRENDAMENTO MERCANTIL S.A.           00549675   \n",
       "3316        46570800  ALFA ARRENDAMENTO MERCANTIL S.A.           09348217   \n",
       "3320        46570800  ALFA ARRENDAMENTO MERCANTIL S.A.           00752386   \n",
       "3321        46570800  ALFA ARRENDAMENTO MERCANTIL S.A.           00752386   \n",
       "3322        46570800  ALFA ARRENDAMENTO MERCANTIL S.A.           00752386   \n",
       "\n",
       "                     NomeCorrespondente    Tipo   Ordem MunicipioIBGE  \\\n",
       "3033                  OCT VEICULOS LTDA    Sede  I00001          None   \n",
       "3316    SADIF COMERCIO DE VEICULOS LTDA  Filial  I00002          None   \n",
       "3320  SAFARI COMERCIO DE VEICULOS LTDA.  Filial  I00024          None   \n",
       "3321  SAFARI COMERCIO DE VEICULOS LTDA.  Filial  I00026          None   \n",
       "3322  SAFARI COMERCIO DE VEICULOS LTDA.  Filial  I00028          None   \n",
       "\n",
       "                  Municipio  UF ServicosCorrespondentes     Posicao  \\\n",
       "3033  BRASILIA (TAGUATINGA)  DF                  Inc. V  31/10/2019   \n",
       "3316        BRASILIA (GAMA)  DF                  Inc. V  31/10/2019   \n",
       "3320       BRASILIA (GUARA)  DF                  Inc. V  31/10/2019   \n",
       "3321       BRASILIA (GUARA)  DF                  Inc. V  31/10/2019   \n",
       "3322       BRASILIA (GUARA)  DF                  Inc. V  31/10/2019   \n",
       "\n",
       "                                                urlserv  \n",
       "3033  https://was-p.bcnet.bcb.gov.br/olinda/servico/...  \n",
       "3316  https://was-p.bcnet.bcb.gov.br/olinda/servico/...  \n",
       "3320  https://was-p.bcnet.bcb.gov.br/olinda/servico/...  \n",
       "3321  https://was-p.bcnet.bcb.gov.br/olinda/servico/...  \n",
       "3322  https://was-p.bcnet.bcb.gov.br/olinda/servico/...  "
      ]
     },
     "execution_count": 10,
     "metadata": {},
     "output_type": "execute_result"
    }
   ],
   "source": [
    "df2.head()"
   ]
  },
  {
   "cell_type": "code",
   "execution_count": 11,
   "metadata": {},
   "outputs": [
    {
     "data": {
      "text/plain": [
       "(387367, 12)"
      ]
     },
     "execution_count": 11,
     "metadata": {},
     "output_type": "execute_result"
    }
   ],
   "source": [
    "df1.shape"
   ]
  },
  {
   "cell_type": "code",
   "execution_count": 12,
   "metadata": {},
   "outputs": [
    {
     "data": {
      "text/plain": [
       "CnpjContratante               278\n",
       "NomeContratante               278\n",
       "CnpjCorrespondente         145148\n",
       "NomeCorrespondente         143660\n",
       "Tipo                            4\n",
       "Ordem                        9488\n",
       "MunicipioIBGE                5570\n",
       "Municipio                    5289\n",
       "UF                             27\n",
       "ServicosCorrespondentes        48\n",
       "Posicao                         1\n",
       "urlserv                         1\n",
       "dtype: int64"
      ]
     },
     "execution_count": 12,
     "metadata": {},
     "output_type": "execute_result"
    }
   ],
   "source": [
    "df1.nunique()"
   ]
  },
  {
   "cell_type": "markdown",
   "metadata": {},
   "source": [
    "Tipos de Correspondentes"
   ]
  },
  {
   "cell_type": "code",
   "execution_count": 13,
   "metadata": {},
   "outputs": [
    {
     "data": {
      "text/plain": [
       "Sede        290287\n",
       "Filial       87095\n",
       "Posto         7174\n",
       "AgÃªncia      2811\n",
       "Name: Tipo, dtype: int64"
      ]
     },
     "execution_count": 13,
     "metadata": {},
     "output_type": "execute_result"
    }
   ],
   "source": [
    "df1[\"Tipo\"].value_counts()"
   ]
  },
  {
   "cell_type": "code",
   "execution_count": 29,
   "metadata": {},
   "outputs": [
    {
     "data": {
      "image/png": "[encoded data removed]",
      "text/plain": [
       "<Figure size 720x504 with 1 Axes>"
      ]
     },
     "metadata": {
      "needs_background": "light"
     },
     "output_type": "display_data"
    }
   ],
   "source": [
    "fig, ax = plt.subplots()\n",
    "fig.set_size_inches(10, 7)\n",
    "ax = sns.countplot(x=\"Tipo\", data=df1, palette=\"Accent\")"
   ]
  },
  {
   "cell_type": "markdown",
   "metadata": {},
   "source": [
    "Distribuição de Correspondentes por UF"
   ]
  },
  {
   "cell_type": "code",
   "execution_count": 15,
   "metadata": {},
   "outputs": [
    {
     "data": {
      "text/plain": [
       "SP    0.276549\n",
       "MG    0.104392\n",
       "PR    0.081063\n",
       "RS    0.069570\n",
       "SC    0.063800\n",
       "RJ    0.058154\n",
       "BA    0.048605\n",
       "GO    0.034760\n",
       "CE    0.029951\n",
       "PE    0.029814\n",
       "ES    0.022730\n",
       "MT    0.020864\n",
       "MS    0.019488\n",
       "PA    0.016855\n",
       "PB    0.016798\n",
       "MA    0.016679\n",
       "RN    0.016186\n",
       "DF    0.014516\n",
       "PI    0.012559\n",
       "AL    0.009991\n",
       "AM    0.009131\n",
       "SE    0.007396\n",
       "RO    0.007153\n",
       "TO    0.006317\n",
       "AC    0.002643\n",
       "AP    0.002168\n",
       "RR    0.001866\n",
       "Name: UF, dtype: float64"
      ]
     },
     "execution_count": 15,
     "metadata": {},
     "output_type": "execute_result"
    }
   ],
   "source": [
    "df1[\"UF\"].value_counts(normalize=True)"
   ]
  },
  {
   "cell_type": "code",
   "execution_count": 16,
   "metadata": {},
   "outputs": [
    {
     "data": {
      "image/png": "[encoded data removed]",
      "text/plain": [
       "<Figure size 576x576 with 1 Axes>"
      ]
     },
     "metadata": {
      "needs_background": "light"
     },
     "output_type": "display_data"
    }
   ],
   "source": [
    "#Distribuição de Correspondentes por UF\n",
    "fig, ax = plt.subplots()\n",
    "fig.set_size_inches(8, 8)\n",
    "ax = sns.countplot(y=df1['UF'], data=df1) "
   ]
  },
  {
   "cell_type": "code",
   "execution_count": 17,
   "metadata": {},
   "outputs": [
    {
     "data": {
      "text/plain": [
       "SAO PAULO                25174\n",
       "RIO DE JANEIRO            9229\n",
       "CURITIBA                  6714\n",
       "BELO HORIZONTE            6434\n",
       "BRASILIA                  5623\n",
       "FORTALEZA                 4635\n",
       "GOIANIA                   3794\n",
       "SALVADOR                  3763\n",
       "PORTO ALEGRE              3676\n",
       "CAMPINAS                  3373\n",
       "RECIFE                    3312\n",
       "CAMPO GRANDE              3212\n",
       "MANAUS                    2505\n",
       "RIBEIRAO PRETO            2441\n",
       "GUARULHOS                 2293\n",
       "SAO JOSE DO RIO PRETO     2292\n",
       "SANTO ANDRE               2200\n",
       "NATAL                     2183\n",
       "SOROCABA                  2177\n",
       "UBERLANDIA                2089\n",
       "BELEM                     1972\n",
       "JOINVILLE                 1944\n",
       "JUNDIAI                   1920\n",
       "LONDRINA                  1901\n",
       "SAO BERNARDO DO CAMPO     1895\n",
       "OSASCO                    1891\n",
       "JOAO PESSOA               1887\n",
       "CUIABA                    1869\n",
       "SAO LUIS                  1746\n",
       "SAO JOSE DOS CAMPOS       1726\n",
       "FLORIANOPOLIS             1625\n",
       "TERESINA                  1599\n",
       "JUIZ DE FORA              1561\n",
       "CAXIAS DO SUL             1545\n",
       "BAURU                     1512\n",
       "BLUMENAU                  1489\n",
       "MACEIO                    1463\n",
       "PIRACICABA                1392\n",
       "CASCAVEL                  1384\n",
       "VITORIA                   1353\n",
       "MARINGA                   1348\n",
       "PONTA GROSSA              1339\n",
       "AMERICANA                 1315\n",
       "ARACAJU                   1272\n",
       "MOGI DAS CRUZES           1256\n",
       "SERRA                     1250\n",
       "SAO JOSE                  1223\n",
       "CONTAGEM                  1193\n",
       "SANTOS                    1148\n",
       "FRANCA                    1140\n",
       "Name: Municipio, dtype: int64"
      ]
     },
     "execution_count": 17,
     "metadata": {},
     "output_type": "execute_result"
    }
   ],
   "source": [
    "df1[\"Municipio\"].value_counts().head(50)"
   ]
  },
  {
   "cell_type": "code",
   "execution_count": 18,
   "metadata": {},
   "outputs": [
    {
     "data": {
      "text/plain": [
       "<matplotlib.axes._subplots.AxesSubplot at 0x269ad418d08>"
      ]
     },
     "execution_count": 18,
     "metadata": {},
     "output_type": "execute_result"
    },
    {
     "data": {
      "image/png": "[encoded data removed]",
      "text/plain": [
       "<Figure size 432x288 with 1 Axes>"
      ]
     },
     "metadata": {
      "needs_background": "light"
     },
     "output_type": "display_data"
    }
   ],
   "source": [
    "df1[\"Municipio\"].value_counts().head(10).plot.barh()"
   ]
  }
 ],
 "metadata": {
  "kernelspec": {
   "display_name": "Python 3",
   "language": "python",
   "name": "python3"
  },
  "language_info": {
   "codemirror_mode": {
    "name": "ipython",
    "version": 3
   },
   "file_extension": ".py",
   "mimetype": "text/x-python",
   "name": "python",
   "nbconvert_exporter": "python",
   "pygments_lexer": "ipython3",
   "version": "3.7.4"
  }
 },
 "nbformat": 4,
 "nbformat_minor": 2
}
