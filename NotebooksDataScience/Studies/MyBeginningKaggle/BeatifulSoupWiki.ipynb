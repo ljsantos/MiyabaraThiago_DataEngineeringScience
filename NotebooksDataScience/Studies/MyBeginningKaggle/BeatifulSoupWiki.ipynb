{
 "cells": [
  {
   "cell_type": "code",
   "execution_count": 1,
   "metadata": {},
   "outputs": [],
   "source": [
    "#importe a biblioteca usada para consultar uma URL\n",
    "import urllib.request\n",
    "#importe as funções BeautifulSoup para analisar os dados retornados do site\n",
    "from bs4 import BeautifulSoup"
   ]
  },
  {
   "cell_type": "code",
   "execution_count": 2,
   "metadata": {},
   "outputs": [
    {
     "name": "stdout",
     "output_type": "stream",
     "text": [
      "2.21 Rio de Janeiro\n"
     ]
    }
   ],
   "source": [
    "wiki = 'https://pt.wikipedia.org/wiki/Lista_de_capitais_do_Brasil'\n",
    "page = urllib.request.urlopen(wiki)\n",
    "soup = BeautifulSoup(page, 'html5lib')\n",
    "list_item = soup.find('li', attrs={'class': 'toclevel-2 tocsection-26'})\n",
    "name = list_item.text.strip()\n",
    "print(name)"
   ]
  }
 ],
 "metadata": {
  "kernelspec": {
   "display_name": "Python 3",
   "language": "python",
   "name": "python3"
  },
  "language_info": {
   "codemirror_mode": {
    "name": "ipython",
    "version": 3
   },
   "file_extension": ".py",
   "mimetype": "text/x-python",
   "name": "python",
   "nbconvert_exporter": "python",
   "pygments_lexer": "ipython3",
   "version": "3.7.4"
  }
 },
 "nbformat": 4,
 "nbformat_minor": 2
}
